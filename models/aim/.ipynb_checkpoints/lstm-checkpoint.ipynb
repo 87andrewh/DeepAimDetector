{
 "cells": [
  {
   "cell_type": "markdown",
   "metadata": {
    "_cell_guid": "79c7e3d0-c299-4dcb-8224-4455121ee9b0",
    "_uuid": "d629ff2d2480ee46fbb7e2d37f6b5fab8052498a",
    "collapsed": true
   },
   "source": [
    "# Import the necessary libraries"
   ]
  },
  {
   "cell_type": "code",
   "execution_count": 47,
   "metadata": {
    "_uuid": "d6fb32fd69316596e236eab5fb8cf77c848508c3"
   },
   "outputs": [],
   "source": [
    "import pandas as pd\n",
    "import numpy as np\n",
    "import matplotlib.pyplot as plt\n",
    "import seaborn as sns\n",
    "from sklearn.model_selection import train_test_split\n",
    "from sklearn.preprocessing import LabelEncoder\n",
    "from sklearn.metrics import confusion_matrix\n",
    "from keras.models import Model\n",
    "from keras.layers import LSTM, Activation, Dense, Dropout, Input, Embedding, Bidirectional\n",
    "from keras.optimizers import RMSprop, Adam\n",
    "from keras.preprocessing.text import Tokenizer\n",
    "from keras.preprocessing import sequence\n",
    "from keras.utils import to_categorical\n",
    "from keras.callbacks import EarlyStopping\n",
    "%matplotlib inline\n",
    "\n",
    "np.set_printoptions(precision=3, suppress=True)"
   ]
  },
  {
   "cell_type": "code",
   "execution_count": 48,
   "metadata": {},
   "outputs": [],
   "source": [
    "num_samples = 96"
   ]
  },
  {
   "cell_type": "markdown",
   "metadata": {
    "_uuid": "f674695f1742479cefdeec0e81ab469f7b6ec90f"
   },
   "source": [
    "### Load the data into Pandas dataframe"
   ]
  },
  {
   "cell_type": "code",
   "execution_count": 49,
   "metadata": {
    "_uuid": "aca2f1d9da3f35d104763166fe4d25448410d8f2"
   },
   "outputs": [
    {
     "data": {
      "text/html": [
       "<div>\n",
       "<style scoped>\n",
       "    .dataframe tbody tr th:only-of-type {\n",
       "        vertical-align: middle;\n",
       "    }\n",
       "\n",
       "    .dataframe tbody tr th {\n",
       "        vertical-align: top;\n",
       "    }\n",
       "\n",
       "    .dataframe thead th {\n",
       "        text-align: right;\n",
       "    }\n",
       "</style>\n",
       "<table border=\"1\" class=\"dataframe\">\n",
       "  <thead>\n",
       "    <tr style=\"text-align: right;\">\n",
       "      <th></th>\n",
       "      <th>0</th>\n",
       "      <th>1</th>\n",
       "      <th>2</th>\n",
       "      <th>3</th>\n",
       "      <th>4</th>\n",
       "      <th>5</th>\n",
       "      <th>6</th>\n",
       "      <th>7</th>\n",
       "      <th>8</th>\n",
       "      <th>9</th>\n",
       "      <th>...</th>\n",
       "      <th>663</th>\n",
       "      <th>664</th>\n",
       "      <th>665</th>\n",
       "      <th>666</th>\n",
       "      <th>667</th>\n",
       "      <th>668</th>\n",
       "      <th>669</th>\n",
       "      <th>670</th>\n",
       "      <th>671</th>\n",
       "      <th>672</th>\n",
       "    </tr>\n",
       "  </thead>\n",
       "  <tbody>\n",
       "    <tr>\n",
       "      <th>0</th>\n",
       "      <td>1</td>\n",
       "      <td>0.000</td>\n",
       "      <td>0.000</td>\n",
       "      <td>70.349</td>\n",
       "      <td>0.652</td>\n",
       "      <td>867</td>\n",
       "      <td>0</td>\n",
       "      <td>100</td>\n",
       "      <td>0.000</td>\n",
       "      <td>0.000</td>\n",
       "      <td>...</td>\n",
       "      <td>775</td>\n",
       "      <td>0</td>\n",
       "      <td>0</td>\n",
       "      <td>-156.418</td>\n",
       "      <td>-92.538</td>\n",
       "      <td>0.000</td>\n",
       "      <td>0.000</td>\n",
       "      <td>0</td>\n",
       "      <td>0</td>\n",
       "      <td>0</td>\n",
       "    </tr>\n",
       "    <tr>\n",
       "      <th>1</th>\n",
       "      <td>1</td>\n",
       "      <td>-0.198</td>\n",
       "      <td>0.066</td>\n",
       "      <td>-28.703</td>\n",
       "      <td>0.626</td>\n",
       "      <td>525</td>\n",
       "      <td>0</td>\n",
       "      <td>100</td>\n",
       "      <td>-0.170</td>\n",
       "      <td>0.099</td>\n",
       "      <td>...</td>\n",
       "      <td>1705</td>\n",
       "      <td>0</td>\n",
       "      <td>0</td>\n",
       "      <td>0.659</td>\n",
       "      <td>0.461</td>\n",
       "      <td>-27.112</td>\n",
       "      <td>-0.605</td>\n",
       "      <td>1705</td>\n",
       "      <td>0</td>\n",
       "      <td>0</td>\n",
       "    </tr>\n",
       "    <tr>\n",
       "      <th>2</th>\n",
       "      <td>1</td>\n",
       "      <td>0.890</td>\n",
       "      <td>-0.758</td>\n",
       "      <td>32.375</td>\n",
       "      <td>-9.009</td>\n",
       "      <td>560</td>\n",
       "      <td>0</td>\n",
       "      <td>100</td>\n",
       "      <td>-2.834</td>\n",
       "      <td>-1.620</td>\n",
       "      <td>...</td>\n",
       "      <td>0</td>\n",
       "      <td>0</td>\n",
       "      <td>0</td>\n",
       "      <td>0.000</td>\n",
       "      <td>0.000</td>\n",
       "      <td>0.000</td>\n",
       "      <td>0.000</td>\n",
       "      <td>0</td>\n",
       "      <td>0</td>\n",
       "      <td>0</td>\n",
       "    </tr>\n",
       "    <tr>\n",
       "      <th>3</th>\n",
       "      <td>1</td>\n",
       "      <td>0.000</td>\n",
       "      <td>0.000</td>\n",
       "      <td>-0.564</td>\n",
       "      <td>0.010</td>\n",
       "      <td>297</td>\n",
       "      <td>0</td>\n",
       "      <td>100</td>\n",
       "      <td>-0.033</td>\n",
       "      <td>0.000</td>\n",
       "      <td>...</td>\n",
       "      <td>2003</td>\n",
       "      <td>0</td>\n",
       "      <td>0</td>\n",
       "      <td>0.000</td>\n",
       "      <td>0.033</td>\n",
       "      <td>28.397</td>\n",
       "      <td>-2.074</td>\n",
       "      <td>1999</td>\n",
       "      <td>0</td>\n",
       "      <td>0</td>\n",
       "    </tr>\n",
       "    <tr>\n",
       "      <th>4</th>\n",
       "      <td>1</td>\n",
       "      <td>11.646</td>\n",
       "      <td>0.494</td>\n",
       "      <td>11.703</td>\n",
       "      <td>-2.944</td>\n",
       "      <td>1340</td>\n",
       "      <td>0</td>\n",
       "      <td>26</td>\n",
       "      <td>0.104</td>\n",
       "      <td>0.428</td>\n",
       "      <td>...</td>\n",
       "      <td>332</td>\n",
       "      <td>0</td>\n",
       "      <td>0</td>\n",
       "      <td>0.000</td>\n",
       "      <td>0.000</td>\n",
       "      <td>18.641</td>\n",
       "      <td>1.749</td>\n",
       "      <td>328</td>\n",
       "      <td>0</td>\n",
       "      <td>0</td>\n",
       "    </tr>\n",
       "  </tbody>\n",
       "</table>\n",
       "<p>5 rows × 673 columns</p>\n",
       "</div>"
      ],
      "text/plain": [
       "   0       1      2       3      4     5    6    7      8      9    ...   663  \\\n",
       "0    1   0.000  0.000  70.349  0.652   867    0  100  0.000  0.000  ...   775   \n",
       "1    1  -0.198  0.066 -28.703  0.626   525    0  100 -0.170  0.099  ...  1705   \n",
       "2    1   0.890 -0.758  32.375 -9.009   560    0  100 -2.834 -1.620  ...     0   \n",
       "3    1   0.000  0.000  -0.564  0.010   297    0  100 -0.033  0.000  ...  2003   \n",
       "4    1  11.646  0.494  11.703 -2.944  1340    0   26  0.104  0.428  ...   332   \n",
       "\n",
       "   664  665      666     667     668    669   670  671  672  \n",
       "0    0    0 -156.418 -92.538   0.000  0.000     0    0    0  \n",
       "1    0    0    0.659   0.461 -27.112 -0.605  1705    0    0  \n",
       "2    0    0    0.000   0.000   0.000  0.000     0    0    0  \n",
       "3    0    0    0.000   0.033  28.397 -2.074  1999    0    0  \n",
       "4    0    0    0.000   0.000  18.641  1.749   328    0    0  \n",
       "\n",
       "[5 rows x 673 columns]"
      ]
     },
     "execution_count": 49,
     "metadata": {},
     "output_type": "execute_result"
    }
   ],
   "source": [
    "df = pd.read_csv('aim.csv', header=None, delimiter=',',encoding='latin-1')\n",
    "df.head()"
   ]
  },
  {
   "cell_type": "code",
   "execution_count": 50,
   "metadata": {},
   "outputs": [
    {
     "name": "stderr",
     "output_type": "stream",
     "text": [
      "C:\\Users\\AHuang\\Anaconda3\\envs\\keras\\lib\\site-packages\\seaborn\\_decorators.py:43: FutureWarning: Pass the following variable as a keyword arg: x. From version 0.12, the only valid positional argument will be `data`, and passing other arguments without an explicit keyword will result in an error or misinterpretation.\n",
      "  FutureWarning\n"
     ]
    },
    {
     "data": {
      "text/plain": [
       "Text(0.5, 1.0, 'Number of clean and cheat samples')"
      ]
     },
     "execution_count": 50,
     "metadata": {},
     "output_type": "execute_result"
    },
    {
     "data": {
      "image/png": "[encoded data removed]",
      "text/plain": [
       "<Figure size 432x288 with 1 Axes>"
      ]
     },
     "metadata": {
      "needs_background": "light"
     },
     "output_type": "display_data"
    }
   ],
   "source": [
    "sns.countplot(df[0])\n",
    "plt.xlabel('Cheating')\n",
    "plt.title('Number of clean and cheat samples')"
   ]
  },
  {
   "cell_type": "code",
   "execution_count": 51,
   "metadata": {},
   "outputs": [
    {
     "name": "stdout",
     "output_type": "stream",
     "text": [
      "[[ 0.89  -0.758 32.375 -9.009  0.   ]\n",
      " [-2.834 -1.62  35.4   -7.388  0.   ]\n",
      " [-3.895 -1.549 39.504 -5.839  0.   ]\n",
      " [-2.214 -0.956 41.933 -4.883  0.   ]\n",
      " [-1.879 -0.731 44.034 -4.153  0.   ]\n",
      " [-1.681 -0.527 45.95  -3.625  0.   ]\n",
      " [-3.367 -0.626 49.561 -2.999  0.   ]\n",
      " [-1.851 -0.494 51.689 -2.505  0.   ]\n",
      " [-0.791 -0.33  52.759 -2.175  0.   ]\n",
      " [-1.516 -0.428 54.554 -1.747  0.   ]\n",
      " [-2.148 -0.396 56.996 -1.351  0.   ]\n",
      " [-3.197 -0.099 60.549 -1.252  0.   ]\n",
      " [-1.258  0.099 62.278 -1.351  1.   ]\n",
      " [ 2.247  0.    60.583 -1.351  0.   ]\n",
      " [ 0.857  0.066 60.35  -1.417  0.   ]]\n"
     ]
    }
   ],
   "source": [
    "data = df.to_numpy()\n",
    "# Only us delta yaw and delta pitch features\n",
    "features = [0, 1, 2, 3, 5]\n",
    "num_features = len(features)\n",
    "idxs = []\n",
    "for i in range(data.shape[1] - 1):\n",
    "    if (i % 7) in features:\n",
    "        idxs.append(i + 1)\n",
    "\n",
    "X = data[:, idxs]\n",
    "X = X.reshape(-1, num_samples, num_features)\n",
    "Y = data[:, 0]\n",
    "\n",
    "X_train, X_test, Y_train, Y_test = train_test_split(X,Y,test_size=0.15)\n",
    "print(X[2][:15])"
   ]
  },
  {
   "cell_type": "code",
   "execution_count": 52,
   "metadata": {},
   "outputs": [],
   "source": [
    "# Some statistics\n",
    "#killerDeltaYaws = []\n",
    "#for i in range(X.shape[0]):\n",
    "#    for j in range(X.shape[1]):\n",
    "#        if (not np.isclose(X[i][j][0], 0)):\n",
    "#            killerDeltaYaws.append(X[i][j][0])\n",
    "#        \n",
    "#killerDeltaPitches = []\n",
    "#for i in range(X.shape[0]):\n",
    "#    for j in range(X.shape[1]):\n",
    "#        if (not np.isclose(X[i][j][1], 0)):\n",
    "#            killerDeltaPitches.append(X[i][j][1])\n",
    "#            \n",
    "#plt.hist(killerDeltaYaws, bins = np.linspace(-2, 2, 40)) \n",
    "#plt.title(\"Delta yaw histogram\") \n",
    "#plt.show()\n",
    "#\n",
    "#plt.hist(killerDeltaPitches, bins = np.linspace(-2, 2, 40)) \n",
    "#plt.title(\"Delta pitch histogram\") \n",
    "#plt.show()"
   ]
  },
  {
   "cell_type": "code",
   "execution_count": 83,
   "metadata": {
    "_uuid": "78fff25b8be1de575bff071a2027f3dd2b11b911"
   },
   "outputs": [],
   "source": [
    "def RNN():\n",
    "    inputs = Input(name='inputs',shape=[num_samples, num_features])\n",
    "    \n",
    "    layer = LSTM(512)(inputs)\n",
    "    #layer = Bidirectional(LSTM(128, return_sequences=False))(inputs)\n",
    "    #layer = Bidirectional(LSTM(128))(layer)\n",
    "    \n",
    "    layer = Dense(512, name='FC1')(layer)\n",
    "    layer = Activation('relu')(layer)\n",
    "    layer = Dropout(0.5)(layer)\n",
    "    layer = Dense(1, name='out')(layer)\n",
    "    layer = Activation('sigmoid')(layer)\n",
    "    model = Model(inputs=inputs,outputs=layer)\n",
    "    return model"
   ]
  },
  {
   "cell_type": "code",
   "execution_count": 84,
   "metadata": {
    "_uuid": "a0ede32d4127e8b4990fd74fe97fadef9e565d17"
   },
   "outputs": [
    {
     "name": "stdout",
     "output_type": "stream",
     "text": [
      "Model: \"model_11\"\n",
      "_________________________________________________________________\n",
      "Layer (type)                 Output Shape              Param #   \n",
      "=================================================================\n",
      "inputs (InputLayer)          (None, 96, 5)             0         \n",
      "_________________________________________________________________\n",
      "lstm_17 (LSTM)               (None, 256)               268288    \n",
      "_________________________________________________________________\n",
      "FC1 (Dense)                  (None, 256)               65792     \n",
      "_________________________________________________________________\n",
      "activation_21 (Activation)   (None, 256)               0         \n",
      "_________________________________________________________________\n",
      "dropout_11 (Dropout)         (None, 256)               0         \n",
      "_________________________________________________________________\n",
      "out_layer (Dense)            (None, 1)                 257       \n",
      "_________________________________________________________________\n",
      "activation_22 (Activation)   (None, 1)                 0         \n",
      "=================================================================\n",
      "Total params: 334,337\n",
      "Trainable params: 334,337\n",
      "Non-trainable params: 0\n",
      "_________________________________________________________________\n"
     ]
    }
   ],
   "source": [
    "model = RNN()\n",
    "model.summary()\n",
    "opt = RMSprop(learning_rate=6e-4)\n",
    "model.compile(loss='binary_crossentropy', optimizer=opt, metrics=['accuracy'])"
   ]
  },
  {
   "cell_type": "code",
   "execution_count": 85,
   "metadata": {
    "_uuid": "98f6d6318352420ea49c532cda158f715f940f4b"
   },
   "outputs": [
    {
     "name": "stdout",
     "output_type": "stream",
     "text": [
      "Train on 1654 samples, validate on 414 samples\n",
      "Epoch 1/200\n",
      "1654/1654 [==============================] - 1s 385us/step - loss: 0.7580 - accuracy: 0.5000 - val_loss: 0.6941 - val_accuracy: 0.5024\n",
      "Epoch 2/200\n",
      "1654/1654 [==============================] - 0s 169us/step - loss: 0.7027 - accuracy: 0.5363 - val_loss: 0.7006 - val_accuracy: 0.5362\n",
      "Epoch 3/200\n",
      "1654/1654 [==============================] - 0s 155us/step - loss: 0.6880 - accuracy: 0.5502 - val_loss: 0.7112 - val_accuracy: 0.5314\n",
      "Epoch 4/200\n",
      "1654/1654 [==============================] - 0s 171us/step - loss: 0.6834 - accuracy: 0.5738 - val_loss: 0.7037 - val_accuracy: 0.4903\n",
      "Epoch 5/200\n",
      "1654/1654 [==============================] - 0s 157us/step - loss: 0.6842 - accuracy: 0.5641 - val_loss: 0.6971 - val_accuracy: 0.5435\n",
      "Epoch 6/200\n",
      "1654/1654 [==============================] - 0s 156us/step - loss: 0.6656 - accuracy: 0.5840 - val_loss: 0.6970 - val_accuracy: 0.5773\n",
      "Epoch 7/200\n",
      "1654/1654 [==============================] - 0s 168us/step - loss: 0.6761 - accuracy: 0.5804 - val_loss: 0.6889 - val_accuracy: 0.5725\n",
      "Epoch 8/200\n",
      "1654/1654 [==============================] - 0s 165us/step - loss: 0.6607 - accuracy: 0.6004 - val_loss: 0.6869 - val_accuracy: 0.5604\n",
      "Epoch 9/200\n",
      "1654/1654 [==============================] - 0s 162us/step - loss: 0.6583 - accuracy: 0.6052 - val_loss: 0.7008 - val_accuracy: 0.5483\n",
      "Epoch 10/200\n",
      "1654/1654 [==============================] - 0s 163us/step - loss: 0.6571 - accuracy: 0.6100 - val_loss: 0.7019 - val_accuracy: 0.5483\n",
      "Epoch 11/200\n",
      "1654/1654 [==============================] - 0s 175us/step - loss: 0.6591 - accuracy: 0.6010 - val_loss: 0.6910 - val_accuracy: 0.5845\n",
      "Epoch 12/200\n",
      "1654/1654 [==============================] - 0s 166us/step - loss: 0.6542 - accuracy: 0.6155 - val_loss: 0.7040 - val_accuracy: 0.5483\n",
      "Epoch 13/200\n",
      "1654/1654 [==============================] - 0s 163us/step - loss: 0.6539 - accuracy: 0.6058 - val_loss: 0.7036 - val_accuracy: 0.5531\n",
      "Epoch 14/200\n",
      "1654/1654 [==============================] - 0s 170us/step - loss: 0.6383 - accuracy: 0.6421 - val_loss: 0.7065 - val_accuracy: 0.5580\n",
      "Epoch 15/200\n",
      "1654/1654 [==============================] - 0s 165us/step - loss: 0.6360 - accuracy: 0.6463 - val_loss: 0.6905 - val_accuracy: 0.5700\n",
      "Epoch 16/200\n",
      "1654/1654 [==============================] - 0s 160us/step - loss: 0.6308 - accuracy: 0.6378 - val_loss: 0.6945 - val_accuracy: 0.5604\n",
      "Epoch 17/200\n",
      "1654/1654 [==============================] - 0s 165us/step - loss: 0.6267 - accuracy: 0.6451 - val_loss: 0.7103 - val_accuracy: 0.5797\n",
      "Epoch 18/200\n",
      "1654/1654 [==============================] - 0s 162us/step - loss: 0.6294 - accuracy: 0.6409 - val_loss: 0.7090 - val_accuracy: 0.5604\n",
      "Epoch 19/200\n",
      "1654/1654 [==============================] - 0s 156us/step - loss: 0.6162 - accuracy: 0.6584 - val_loss: 0.6967 - val_accuracy: 0.5531\n",
      "Epoch 20/200\n",
      "1654/1654 [==============================] - 0s 157us/step - loss: 0.6115 - accuracy: 0.6578 - val_loss: 0.6982 - val_accuracy: 0.5749\n",
      "Epoch 21/200\n",
      "1654/1654 [==============================] - 0s 159us/step - loss: 0.6025 - accuracy: 0.6723 - val_loss: 0.7109 - val_accuracy: 0.5821\n",
      "Epoch 22/200\n",
      "1654/1654 [==============================] - 0s 159us/step - loss: 0.6035 - accuracy: 0.6771 - val_loss: 0.7133 - val_accuracy: 0.5725\n",
      "Epoch 23/200\n",
      "1654/1654 [==============================] - 0s 159us/step - loss: 0.6001 - accuracy: 0.6699 - val_loss: 0.7097 - val_accuracy: 0.5700\n",
      "Epoch 24/200\n",
      "1654/1654 [==============================] - 0s 159us/step - loss: 0.5940 - accuracy: 0.6669 - val_loss: 0.7332 - val_accuracy: 0.5483\n",
      "Epoch 25/200\n",
      "1654/1654 [==============================] - 0s 157us/step - loss: 0.5990 - accuracy: 0.6651 - val_loss: 0.7053 - val_accuracy: 0.5604\n",
      "Epoch 26/200\n",
      "1654/1654 [==============================] - 0s 157us/step - loss: 0.5857 - accuracy: 0.6911 - val_loss: 0.7054 - val_accuracy: 0.5942\n",
      "Epoch 27/200\n",
      "1654/1654 [==============================] - 0s 158us/step - loss: 0.5800 - accuracy: 0.6953 - val_loss: 0.7307 - val_accuracy: 0.5652\n",
      "Epoch 28/200\n",
      "1654/1654 [==============================] - 0s 179us/step - loss: 0.5735 - accuracy: 0.6947 - val_loss: 0.7026 - val_accuracy: 0.5990\n",
      "Epoch 29/200\n",
      "1654/1654 [==============================] - 0s 162us/step - loss: 0.5646 - accuracy: 0.7134 - val_loss: 0.7085 - val_accuracy: 0.5870\n",
      "Epoch 30/200\n",
      "1654/1654 [==============================] - 0s 162us/step - loss: 0.5654 - accuracy: 0.7062 - val_loss: 0.7373 - val_accuracy: 0.5725\n",
      "Epoch 31/200\n",
      "1654/1654 [==============================] - 0s 166us/step - loss: 0.5752 - accuracy: 0.6941 - val_loss: 0.7234 - val_accuracy: 0.6087\n",
      "Epoch 32/200\n",
      "1654/1654 [==============================] - 0s 156us/step - loss: 0.5547 - accuracy: 0.7050 - val_loss: 0.7269 - val_accuracy: 0.5870\n",
      "Epoch 33/200\n",
      "1654/1654 [==============================] - 0s 155us/step - loss: 0.5509 - accuracy: 0.7243 - val_loss: 0.7564 - val_accuracy: 0.5652\n",
      "Epoch 34/200\n",
      "1654/1654 [==============================] - 0s 154us/step - loss: 0.5479 - accuracy: 0.7164 - val_loss: 0.7258 - val_accuracy: 0.5966\n",
      "Epoch 35/200\n",
      "1654/1654 [==============================] - 0s 157us/step - loss: 0.5316 - accuracy: 0.7340 - val_loss: 0.7405 - val_accuracy: 0.6014\n",
      "Epoch 36/200\n",
      "1654/1654 [==============================] - 0s 156us/step - loss: 0.5331 - accuracy: 0.7261 - val_loss: 0.7555 - val_accuracy: 0.5749\n",
      "Epoch 37/200\n",
      "1654/1654 [==============================] - 0s 156us/step - loss: 0.5176 - accuracy: 0.7364 - val_loss: 0.7379 - val_accuracy: 0.5797\n",
      "Epoch 38/200\n",
      "1654/1654 [==============================] - 0s 165us/step - loss: 0.5584 - accuracy: 0.7080 - val_loss: 0.7579 - val_accuracy: 0.5725\n",
      "Epoch 39/200\n",
      "1654/1654 [==============================] - 0s 169us/step - loss: 0.5285 - accuracy: 0.7297 - val_loss: 0.7617 - val_accuracy: 0.5411\n",
      "Epoch 40/200\n",
      "1654/1654 [==============================] - 0s 169us/step - loss: 0.5180 - accuracy: 0.7406 - val_loss: 0.7786 - val_accuracy: 0.5459\n",
      "Epoch 41/200\n",
      "1654/1654 [==============================] - 0s 166us/step - loss: 0.5177 - accuracy: 0.7406 - val_loss: 0.7924 - val_accuracy: 0.5652\n",
      "Epoch 42/200\n",
      "1654/1654 [==============================] - 0s 169us/step - loss: 0.5399 - accuracy: 0.7134 - val_loss: 0.7576 - val_accuracy: 0.5556\n",
      "Epoch 43/200\n",
      "1654/1654 [==============================] - 0s 162us/step - loss: 0.5051 - accuracy: 0.7449 - val_loss: 0.7597 - val_accuracy: 0.5918\n",
      "Epoch 44/200\n",
      "1654/1654 [==============================] - 0s 162us/step - loss: 0.5005 - accuracy: 0.7467 - val_loss: 0.7621 - val_accuracy: 0.5821\n",
      "Epoch 45/200\n",
      "1654/1654 [==============================] - 0s 173us/step - loss: 0.5000 - accuracy: 0.7551 - val_loss: 0.7653 - val_accuracy: 0.5942\n",
      "Epoch 46/200\n",
      "1654/1654 [==============================] - 0s 157us/step - loss: 0.4990 - accuracy: 0.7509 - val_loss: 0.7747 - val_accuracy: 0.5894\n",
      "Epoch 47/200\n",
      "1654/1654 [==============================] - 0s 172us/step - loss: 0.4909 - accuracy: 0.7678 - val_loss: 0.8300 - val_accuracy: 0.5797\n",
      "Epoch 48/200\n",
      "1654/1654 [==============================] - 0s 174us/step - loss: 0.4782 - accuracy: 0.7733 - val_loss: 0.7835 - val_accuracy: 0.5845\n",
      "Epoch 49/200\n",
      "1654/1654 [==============================] - 0s 163us/step - loss: 0.4797 - accuracy: 0.7642 - val_loss: 0.7919 - val_accuracy: 0.5773\n",
      "Epoch 50/200\n",
      "1654/1654 [==============================] - 0s 163us/step - loss: 0.5001 - accuracy: 0.7570 - val_loss: 0.8329 - val_accuracy: 0.5797\n",
      "Epoch 51/200\n",
      "1654/1654 [==============================] - 0s 169us/step - loss: 0.5312 - accuracy: 0.7467 - val_loss: 0.7788 - val_accuracy: 0.5676\n",
      "Epoch 52/200\n",
      "1654/1654 [==============================] - 0s 159us/step - loss: 0.4634 - accuracy: 0.7842 - val_loss: 0.7740 - val_accuracy: 0.5797\n",
      "Epoch 53/200\n",
      "1654/1654 [==============================] - 0s 172us/step - loss: 0.4642 - accuracy: 0.7944 - val_loss: 0.7874 - val_accuracy: 0.5845\n",
      "Epoch 54/200\n",
      "1654/1654 [==============================] - 0s 166us/step - loss: 0.4493 - accuracy: 0.7956 - val_loss: 0.8078 - val_accuracy: 0.5725\n",
      "Epoch 55/200\n",
      "1654/1654 [==============================] - 0s 158us/step - loss: 0.4590 - accuracy: 0.7854 - val_loss: 0.8883 - val_accuracy: 0.5556\n",
      "Epoch 56/200\n"
     ]
    },
    {
     "name": "stdout",
     "output_type": "stream",
     "text": [
      "1654/1654 [==============================] - 0s 156us/step - loss: 0.4873 - accuracy: 0.7527 - val_loss: 0.8367 - val_accuracy: 0.5628\n",
      "Epoch 57/200\n",
      "1654/1654 [==============================] - 0s 157us/step - loss: 0.4281 - accuracy: 0.8168 - val_loss: 0.8525 - val_accuracy: 0.5652\n",
      "Epoch 58/200\n",
      "1654/1654 [==============================] - 0s 154us/step - loss: 0.4265 - accuracy: 0.8180 - val_loss: 0.8561 - val_accuracy: 0.5628\n"
     ]
    },
    {
     "data": {
      "text/plain": [
       "<keras.callbacks.callbacks.History at 0x1da81530f88>"
      ]
     },
     "execution_count": 85,
     "metadata": {},
     "output_type": "execute_result"
    }
   ],
   "source": [
    "model.fit(\n",
    "    X_train,\n",
    "    Y_train,\n",
    "    batch_size=1200,\n",
    "    epochs=200,\n",
    "    validation_split=0.2,\n",
    "    callbacks=[EarlyStopping(monitor='val_loss', patience=50)])"
   ]
  },
  {
   "cell_type": "code",
   "execution_count": 86,
   "metadata": {
    "_uuid": "0db183049b59d96388812a98efedfc865b7cc141"
   },
   "outputs": [
    {
     "name": "stdout",
     "output_type": "stream",
     "text": [
      "[[ 83 114]\n",
      " [ 35 133]]\n",
      "365/365 [==============================] - 0s 421us/step\n",
      "Test set\n",
      "  Loss: 0.871\n",
      "  Accuracy: 0.592\n"
     ]
    }
   ],
   "source": [
    "pred = (model.predict(X_test) > 0.5).astype(int)\n",
    "print(confusion_matrix(Y_test, pred))\n",
    "\n",
    "accr = model.evaluate(X_test, Y_test)\n",
    "print('Test set\\n  Loss: {:0.3f}\\n  Accuracy: {:0.3f}'.format(accr[0],accr[1]))"
   ]
  },
  {
   "cell_type": "code",
   "execution_count": null,
   "metadata": {},
   "outputs": [],
   "source": []
  }
 ],
 "metadata": {
  "kernelspec": {
   "display_name": "Python 3",
   "language": "python",
   "name": "python3"
  },
  "language_info": {
   "codemirror_mode": {
    "name": "ipython",
    "version": 3
   },
   "file_extension": ".py",
   "mimetype": "text/x-python",
   "name": "python",
   "nbconvert_exporter": "python",
   "pygments_lexer": "ipython3",
   "version": "3.7.8"
  }
 },
 "nbformat": 4,
 "nbformat_minor": 1
}
