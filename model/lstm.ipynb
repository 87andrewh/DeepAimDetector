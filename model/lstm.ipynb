{
 "cells": [
  {
   "cell_type": "markdown",
   "metadata": {
    "_cell_guid": "79c7e3d0-c299-4dcb-8224-4455121ee9b0",
    "_uuid": "d629ff2d2480ee46fbb7e2d37f6b5fab8052498a",
    "collapsed": true
   },
   "source": [
    "# Import the necessary libraries"
   ]
  },
  {
   "cell_type": "code",
   "execution_count": 99,
   "metadata": {
    "_uuid": "d6fb32fd69316596e236eab5fb8cf77c848508c3"
   },
   "outputs": [],
   "source": [
    "import pandas as pd\n",
    "import numpy as np\n",
    "import matplotlib.pyplot as plt\n",
    "import seaborn as sb\n",
    "from sklearn.model_selection import train_test_split\n",
    "from sklearn.preprocessing import LabelEncoder\n",
    "from sklearn.metrics import confusion_matrix, roc_auc_score\n",
    "from keras import initializers\n",
    "from keras.models import Model\n",
    "from keras.layers import LSTM, Activation, Dense, Dropout, Input, Embedding, Bidirectional\n",
    "from tensorflow.keras import regularizers\n",
    "from tensorflow.keras.optimizers import RMSprop, Adam\n",
    "from keras.preprocessing.text import Tokenizer\n",
    "from keras.preprocessing import sequence\n",
    "from keras.utils import to_categorical\n",
    "from keras.callbacks import EarlyStopping\n",
    "%matplotlib inline\n",
    "\n",
    "np.set_printoptions(precision=3, suppress=True)\n",
    "\n",
    "seed = 16\n",
    "np.random.seed(seed)"
   ]
  },
  {
   "cell_type": "code",
   "execution_count": 100,
   "metadata": {
    "scrolled": false
   },
   "outputs": [
    {
     "name": "stderr",
     "output_type": "stream",
     "text": [
      "C:\\Users\\AHuang\\Anaconda3\\envs\\keras\\lib\\site-packages\\seaborn\\_decorators.py:43: FutureWarning: Pass the following variable as a keyword arg: x. From version 0.12, the only valid positional argument will be `data`, and passing other arguments without an explicit keyword will result in an error or misinterpretation.\n",
      "  FutureWarning\n"
     ]
    },
    {
     "data": {
      "text/plain": [
       "Text(0.5, 1.0, 'Clean and cheat samples, total')"
      ]
     },
     "execution_count": 100,
     "metadata": {},
     "output_type": "execute_result"
    },
    {
     "data": {
      "image/png": "[encoded data removed]",
      "text/plain": [
       "<Figure size 432x288 with 1 Axes>"
      ]
     },
     "metadata": {
      "needs_background": "light"
     },
     "output_type": "display_data"
    }
   ],
   "source": [
    "df = pd.read_csv('train.csv', header=None, delimiter=',',encoding='latin-1')\n",
    "\n",
    "sb.countplot(df[0])\n",
    "plt.xlabel('Cheating')\n",
    "plt.title('Clean and cheat samples, total')"
   ]
  },
  {
   "cell_type": "code",
   "execution_count": 101,
   "metadata": {},
   "outputs": [],
   "source": [
    "def extract_features(df):\n",
    "    data = df.to_numpy()\n",
    "    \n",
    "    Y = data[:, 0]\n",
    "    X = data[:, 1:]\n",
    "    \n",
    "    # Only us some features\n",
    "    features = [0, 1, 2, 3, 4, 5, 6]\n",
    "    num_features = len(features)\n",
    "    idxs = []\n",
    "    \n",
    "    for i in range(X.shape[1]):\n",
    "        if (i >= 7 * 48):\n",
    "            continue\n",
    "        if (i % 7) in features:\n",
    "            idxs.append(i)\n",
    "            \n",
    "    num_samples = len(idxs) // num_features\n",
    "    X = X[:, idxs]\n",
    "    X = X.reshape(-1, num_samples, num_features)\n",
    "    \n",
    "    return X, Y\n",
    "    \n",
    "\n",
    "def split(X, Y):\n",
    "    X_train, X_val, Y_train, Y_val = [], [], [], []\n",
    "    \n",
    "    # Split training at test set, in chunks to prevent information leak\n",
    "    chunk_size = 100\n",
    "    val_fraction = 0.2\n",
    "    chunks = [[*range(chunk_size * i, chunk_size * (i+1))] for i in range(Y.shape[0]//chunk_size)]\n",
    "    chunks.append([*range(chunk_size * (Y.shape[0]//chunk_size - 1), Y.shape[0] -1)])\n",
    "    np.random.shuffle(chunks)\n",
    "    \n",
    "    for i, chunk in enumerate(chunks):\n",
    "        if i < len(chunks) * 0.2:\n",
    "            X_val.extend(X[chunk])\n",
    "            Y_val.extend(Y[chunk])\n",
    "        else:\n",
    "            X_train.extend(X[chunk])\n",
    "            Y_train.extend(Y[chunk])\n",
    "            \n",
    "    X_train = np.array(X_train)\n",
    "    Y_train = np.array(Y_train)\n",
    "    X_val = np.array(X_val)\n",
    "    Y_val = np.array(Y_val)\n",
    "    \n",
    "    return X_train, Y_train, X_val, Y_val"
   ]
  },
  {
   "cell_type": "code",
   "execution_count": 102,
   "metadata": {},
   "outputs": [],
   "source": [
    "X_train, Y_train, X_val, Y_val = split(*extract_features(df))"
   ]
  },
  {
   "cell_type": "code",
   "execution_count": 103,
   "metadata": {},
   "outputs": [
    {
     "name": "stderr",
     "output_type": "stream",
     "text": [
      "C:\\Users\\AHuang\\Anaconda3\\envs\\keras\\lib\\site-packages\\seaborn\\_decorators.py:43: FutureWarning: Pass the following variable as a keyword arg: x. From version 0.12, the only valid positional argument will be `data`, and passing other arguments without an explicit keyword will result in an error or misinterpretation.\n",
      "  FutureWarning\n"
     ]
    },
    {
     "data": {
      "text/plain": [
       "Text(0.5, 1.0, 'Clean and cheat samples, validation')"
      ]
     },
     "execution_count": 103,
     "metadata": {},
     "output_type": "execute_result"
    },
    {
     "data": {
      "image/png": "[encoded data removed]",
      "text/plain": [
       "<Figure size 432x288 with 1 Axes>"
      ]
     },
     "metadata": {
      "needs_background": "light"
     },
     "output_type": "display_data"
    }
   ],
   "source": [
    "sb.countplot(Y_val)\n",
    "plt.xlabel('Cheating')\n",
    "plt.title('Clean and cheat samples, validation')"
   ]
  },
  {
   "cell_type": "code",
   "execution_count": 19,
   "metadata": {},
   "outputs": [],
   "source": [
    "#values = np.moveaxis(X_train, 2, 0)\n",
    "#values = values.reshape(values.shape[0], -1)\n",
    "#means = np.mean(values, axis=1)\n",
    "#stds = np.std(values, axis=1)\n",
    "#print(means)\n",
    "#print(stds)\n",
    "#means = np.array([0, 0, 0, 0, 0, 0, 0]) # Vectors should be 0 mean\n",
    "#stds = np.array([1, 1, 1, 1, 1, 1, 1])\n",
    "#\n",
    "#X_train_norm = np.moveaxis(X_train, 2, 0)\n",
    "#X_train_norm = X_train_norm.reshape(X_train.shape[2], -1)\n",
    "#means_repeat = np.repeat(means[:, np.newaxis], X_train_norm.shape[1], axis=1)\n",
    "#stds_repeat = np.repeat(stds[:, np.newaxis], X_train_norm.shape[1], axis=1)\n",
    "#X_train_norm -= means_repeat\n",
    "#X_train_norm /= stds_repeat\n",
    "#X_train_norm = X_train_norm.reshape(X_train.shape[2], X_train.shape[0], -1)\n",
    "#X_train_norm = np.moveaxis(X_train_norm, 0, 2)\n",
    "#X_train = X_train_norm\n",
    "#\n",
    "#X_val_norm = np.moveaxis(X_val, 2, 0)\n",
    "#X_val_norm = X_val_norm.reshape(X_val.shape[2], -1)\n",
    "#means_repeat = np.repeat(means[:, np.newaxis], X_val_norm.shape[1], axis=1)\n",
    "#stds_repeat = np.repeat(stds[:, np.newaxis], X_val_norm.shape[1], axis=1)\n",
    "#X_val_norm -= means_repeat\n",
    "#X_val_norm /= stds_repeat\n",
    "#X_val_norm = X_val_norm.reshape(X_val.shape[2], X_val.shape[0], -1)\n",
    "#X_val_norm = np.moveaxis(X_val_norm, 0, 2)\n",
    "#X_val = X_val_norm"
   ]
  },
  {
   "cell_type": "code",
   "execution_count": 104,
   "metadata": {
    "_uuid": "78fff25b8be1de575bff071a2027f3dd2b11b911"
   },
   "outputs": [],
   "source": [
    "def RNN():\n",
    "    inputs = Input(name='inputs',shape=[num_samples, num_features])\n",
    "   \n",
    "    layer = LSTM(\n",
    "        512,\n",
    "        return_sequences=False,\n",
    "        kernel_regularizer=regularizers.l2(1e-3)\n",
    "    )(inputs)\n",
    "    #layer = Bidirectional(LSTM(128, return_sequences=False))(inputs)\n",
    "    #layer = Bidirectional(LSTM(128))(layer)\n",
    "    \n",
    "    layer = Dense(512, name='FC1')(layer)\n",
    "    layer = Activation('relu')(layer)\n",
    "    layer = Dropout(0.5)(layer)\n",
    "    layer = Dense(1, name='out')(layer)\n",
    "    layer = Activation('sigmoid')(layer)\n",
    "    model = Model(inputs=inputs,outputs=layer)\n",
    "    return model"
   ]
  },
  {
   "cell_type": "code",
   "execution_count": 105,
   "metadata": {
    "_uuid": "a0ede32d4127e8b4990fd74fe97fadef9e565d17",
    "scrolled": true
   },
   "outputs": [
    {
     "name": "stdout",
     "output_type": "stream",
     "text": [
      "Model: \"functional_3\"\n",
      "_________________________________________________________________\n",
      "Layer (type)                 Output Shape              Param #   \n",
      "=================================================================\n",
      "inputs (InputLayer)          [(None, 48, 7)]           0         \n",
      "_________________________________________________________________\n",
      "lstm_1 (LSTM)                (None, 512)               1064960   \n",
      "_________________________________________________________________\n",
      "FC1 (Dense)                  (None, 512)               262656    \n",
      "_________________________________________________________________\n",
      "activation_2 (Activation)    (None, 512)               0         \n",
      "_________________________________________________________________\n",
      "dropout_1 (Dropout)          (None, 512)               0         \n",
      "_________________________________________________________________\n",
      "out (Dense)                  (None, 1)                 513       \n",
      "_________________________________________________________________\n",
      "activation_3 (Activation)    (None, 1)                 0         \n",
      "=================================================================\n",
      "Total params: 1,328,129\n",
      "Trainable params: 1,328,129\n",
      "Non-trainable params: 0\n",
      "_________________________________________________________________\n"
     ]
    }
   ],
   "source": [
    "model = RNN()\n",
    "model.summary()\n",
    "opt = RMSprop(learning_rate=6e-4)\n",
    "model.compile(loss='binary_crossentropy', optimizer=opt, metrics=['accuracy'])"
   ]
  },
  {
   "cell_type": "code",
   "execution_count": 107,
   "metadata": {
    "_uuid": "98f6d6318352420ea49c532cda158f715f940f4b"
   },
   "outputs": [
    {
     "name": "stdout",
     "output_type": "stream",
     "text": [
      "Epoch 1/100\n",
      "2/7 [=======>......................] - ETA: 0s - loss: 0.6027 - accuracy: 0.6691WARNING:tensorflow:Callbacks method `on_train_batch_end` is slow compared to the batch time (batch time: 0.0668s vs `on_train_batch_end` time: 0.1087s). Check your callbacks.\n",
      "7/7 [==============================] - 1s 149ms/step - loss: 0.6042 - accuracy: 0.6785\n",
      "Epoch 2/100\n",
      "7/7 [==============================] - 1s 143ms/step - loss: 0.5957 - accuracy: 0.6875\n",
      "Epoch 3/100\n",
      "7/7 [==============================] - 1s 163ms/step - loss: 0.5821 - accuracy: 0.7031\n",
      "Epoch 4/100\n",
      "7/7 [==============================] - 1s 148ms/step - loss: 0.5929 - accuracy: 0.6877\n",
      "Epoch 5/100\n",
      "7/7 [==============================] - 1s 146ms/step - loss: 0.5744 - accuracy: 0.7051\n",
      "Epoch 6/100\n",
      "7/7 [==============================] - 1s 140ms/step - loss: 0.5547 - accuracy: 0.7235\n",
      "Epoch 7/100\n",
      "7/7 [==============================] - 1s 140ms/step - loss: 0.5668 - accuracy: 0.7096\n",
      "Epoch 8/100\n",
      "7/7 [==============================] - 1s 142ms/step - loss: 0.5383 - accuracy: 0.7290\n",
      "Epoch 9/100\n",
      "7/7 [==============================] - 1s 153ms/step - loss: 0.5771 - accuracy: 0.7019\n",
      "Epoch 10/100\n",
      "7/7 [==============================] - 1s 141ms/step - loss: 0.5225 - accuracy: 0.7488\n",
      "Epoch 11/100\n",
      "7/7 [==============================] - 1s 148ms/step - loss: 0.5451 - accuracy: 0.7289\n",
      "Epoch 12/100\n",
      "7/7 [==============================] - 1s 140ms/step - loss: 0.5143 - accuracy: 0.7520\n",
      "Epoch 13/100\n",
      "7/7 [==============================] - 1s 159ms/step - loss: 0.5232 - accuracy: 0.7491\n",
      "Epoch 14/100\n",
      "7/7 [==============================] - 1s 147ms/step - loss: 0.4836 - accuracy: 0.7676\n",
      "Epoch 15/100\n",
      "7/7 [==============================] - 1s 143ms/step - loss: 0.5109 - accuracy: 0.7487\n",
      "Epoch 16/100\n",
      "7/7 [==============================] - 1s 141ms/step - loss: 0.4662 - accuracy: 0.7859\n",
      "Epoch 17/100\n",
      "7/7 [==============================] - 1s 140ms/step - loss: 0.4828 - accuracy: 0.7700\n",
      "Epoch 18/100\n",
      "7/7 [==============================] - 1s 140ms/step - loss: 0.4468 - accuracy: 0.7952\n",
      "Epoch 19/100\n",
      "7/7 [==============================] - 1s 142ms/step - loss: 0.4712 - accuracy: 0.7781\n",
      "Epoch 20/100\n",
      "7/7 [==============================] - 1s 141ms/step - loss: 0.4544 - accuracy: 0.7871\n",
      "Epoch 21/100\n",
      "7/7 [==============================] - 1s 141ms/step - loss: 0.4121 - accuracy: 0.8136\n",
      "Epoch 22/100\n",
      "7/7 [==============================] - 1s 141ms/step - loss: 0.4311 - accuracy: 0.7985\n",
      "Epoch 23/100\n",
      "7/7 [==============================] - 1s 140ms/step - loss: 0.3980 - accuracy: 0.8226\n",
      "Epoch 24/100\n",
      "7/7 [==============================] - 1s 141ms/step - loss: 0.4162 - accuracy: 0.8121\n",
      "Epoch 25/100\n",
      "7/7 [==============================] - 1s 140ms/step - loss: 0.3870 - accuracy: 0.8278\n",
      "Epoch 26/100\n",
      "7/7 [==============================] - 1s 147ms/step - loss: 0.3665 - accuracy: 0.8387\n",
      "Epoch 27/100\n",
      "7/7 [==============================] - 1s 149ms/step - loss: 0.3644 - accuracy: 0.8403\n",
      "Epoch 28/100\n",
      "7/7 [==============================] - 1s 147ms/step - loss: 0.3548 - accuracy: 0.8478\n",
      "Epoch 29/100\n",
      "7/7 [==============================] - 1s 141ms/step - loss: 0.3557 - accuracy: 0.8416\n",
      "Epoch 30/100\n",
      "7/7 [==============================] - 1s 141ms/step - loss: 0.3073 - accuracy: 0.8720\n",
      "Epoch 31/100\n",
      "7/7 [==============================] - 1s 141ms/step - loss: 0.3488 - accuracy: 0.8518\n",
      "Epoch 32/100\n",
      "7/7 [==============================] - 1s 153ms/step - loss: 0.3056 - accuracy: 0.8756\n",
      "Epoch 33/100\n",
      "7/7 [==============================] - 1s 150ms/step - loss: 0.2985 - accuracy: 0.8744\n",
      "Epoch 34/100\n",
      "7/7 [==============================] - 1s 167ms/step - loss: 0.2869 - accuracy: 0.8804\n",
      "Epoch 35/100\n",
      "7/7 [==============================] - 1s 142ms/step - loss: 0.2805 - accuracy: 0.8848\n",
      "Epoch 36/100\n",
      "7/7 [==============================] - 1s 147ms/step - loss: 0.2750 - accuracy: 0.8884\n",
      "Epoch 37/100\n",
      "7/7 [==============================] - 1s 155ms/step - loss: 0.2534 - accuracy: 0.8980\n",
      "Epoch 38/100\n",
      "7/7 [==============================] - 1s 154ms/step - loss: 0.2534 - accuracy: 0.8998\n",
      "Epoch 39/100\n",
      "7/7 [==============================] - 1s 150ms/step - loss: 0.2024 - accuracy: 0.9236\n",
      "Epoch 40/100\n",
      "7/7 [==============================] - 1s 143ms/step - loss: 0.2661 - accuracy: 0.8920\n",
      "Epoch 41/100\n",
      "7/7 [==============================] - 1s 146ms/step - loss: 0.2154 - accuracy: 0.9186\n",
      "Epoch 42/100\n",
      "7/7 [==============================] - 1s 151ms/step - loss: 0.1896 - accuracy: 0.9280\n",
      "Epoch 43/100\n",
      "7/7 [==============================] - 1s 149ms/step - loss: 0.2197 - accuracy: 0.9148\n",
      "Epoch 44/100\n",
      "7/7 [==============================] - 1s 151ms/step - loss: 0.1712 - accuracy: 0.9391\n",
      "Epoch 45/100\n",
      "7/7 [==============================] - 1s 160ms/step - loss: 0.1962 - accuracy: 0.9288\n",
      "Epoch 46/100\n",
      "7/7 [==============================] - 1s 154ms/step - loss: 0.1501 - accuracy: 0.9489\n",
      "Epoch 47/100\n",
      "7/7 [==============================] - 1s 156ms/step - loss: 0.2276 - accuracy: 0.9102\n",
      "Epoch 48/100\n",
      "7/7 [==============================] - 1s 144ms/step - loss: 0.1026 - accuracy: 0.9662\n",
      "Epoch 49/100\n",
      "7/7 [==============================] - 1s 149ms/step - loss: 0.1749 - accuracy: 0.9351\n",
      "Epoch 50/100\n",
      "7/7 [==============================] - 1s 142ms/step - loss: 0.1323 - accuracy: 0.9580\n",
      "Epoch 51/100\n",
      "7/7 [==============================] - 1s 142ms/step - loss: 0.1778 - accuracy: 0.9344\n",
      "Epoch 52/100\n",
      "7/7 [==============================] - 1s 141ms/step - loss: 0.0801 - accuracy: 0.9783\n",
      "Epoch 53/100\n",
      "7/7 [==============================] - 1s 140ms/step - loss: 0.1112 - accuracy: 0.9656\n",
      "Epoch 54/100\n",
      "7/7 [==============================] - 1s 140ms/step - loss: 0.2256 - accuracy: 0.9190\n",
      "Epoch 55/100\n",
      "7/7 [==============================] - 1s 143ms/step - loss: 0.0636 - accuracy: 0.9847\n",
      "Epoch 56/100\n",
      "7/7 [==============================] - 1s 143ms/step - loss: 0.0679 - accuracy: 0.9822\n",
      "Epoch 57/100\n",
      "7/7 [==============================] - 1s 141ms/step - loss: 0.1798 - accuracy: 0.9400\n",
      "Epoch 58/100\n",
      "7/7 [==============================] - 1s 141ms/step - loss: 0.0690 - accuracy: 0.9825\n",
      "Epoch 59/100\n",
      "7/7 [==============================] - 1s 142ms/step - loss: 0.0398 - accuracy: 0.9937\n",
      "Epoch 60/100\n",
      "7/7 [==============================] - 1s 143ms/step - loss: 0.2092 - accuracy: 0.9317\n",
      "Epoch 61/100\n",
      "7/7 [==============================] - 1s 145ms/step - loss: 0.0631 - accuracy: 0.9849\n",
      "Epoch 62/100\n",
      "7/7 [==============================] - 1s 150ms/step - loss: 0.0533 - accuracy: 0.9870\n",
      "Epoch 63/100\n",
      "7/7 [==============================] - 1s 140ms/step - loss: 0.1821 - accuracy: 0.9388\n",
      "Epoch 64/100\n",
      "7/7 [==============================] - 1s 141ms/step - loss: 0.0378 - accuracy: 0.9958\n",
      "Epoch 65/100\n",
      "7/7 [==============================] - 1s 161ms/step - loss: 0.0373 - accuracy: 0.9944\n",
      "Epoch 66/100\n",
      "7/7 [==============================] - 1s 152ms/step - loss: 0.2408 - accuracy: 0.9205\n",
      "Epoch 67/100\n",
      "7/7 [==============================] - 1s 157ms/step - loss: 0.0481 - accuracy: 0.9919\n",
      "Epoch 68/100\n",
      "7/7 [==============================] - 1s 145ms/step - loss: 0.0281 - accuracy: 0.9979\n",
      "Epoch 69/100\n",
      "7/7 [==============================] - 1s 149ms/step - loss: 0.0247 - accuracy: 0.9976\n",
      "Epoch 70/100\n",
      "7/7 [==============================] - 1s 151ms/step - loss: 0.2023 - accuracy: 0.9353\n",
      "Epoch 71/100\n",
      "7/7 [==============================] - 1s 150ms/step - loss: 0.0353 - accuracy: 0.9955\n",
      "Epoch 72/100\n",
      "7/7 [==============================] - 1s 142ms/step - loss: 0.0355 - accuracy: 0.9953\n",
      "Epoch 73/100\n",
      "7/7 [==============================] - 1s 143ms/step - loss: 0.2266 - accuracy: 0.9310\n",
      "Epoch 74/100\n",
      "7/7 [==============================] - 1s 143ms/step - loss: 0.0605 - accuracy: 0.9863\n",
      "Epoch 75/100\n",
      "7/7 [==============================] - 1s 142ms/step - loss: 0.0231 - accuracy: 0.9995\n",
      "Epoch 76/100\n",
      "7/7 [==============================] - 1s 141ms/step - loss: 0.0186 - accuracy: 0.9995\n",
      "Epoch 77/100\n",
      "7/7 [==============================] - 1s 143ms/step - loss: 0.0782 - accuracy: 0.9788\n",
      "Epoch 78/100\n",
      "7/7 [==============================] - 1s 143ms/step - loss: 0.1208 - accuracy: 0.9649\n",
      "Epoch 79/100\n",
      "7/7 [==============================] - 1s 141ms/step - loss: 0.0265 - accuracy: 0.9980\n",
      "Epoch 80/100\n"
     ]
    },
    {
     "name": "stdout",
     "output_type": "stream",
     "text": [
      "7/7 [==============================] - 1s 150ms/step - loss: 0.0175 - accuracy: 0.9998\n",
      "Epoch 81/100\n",
      "7/7 [==============================] - 1s 148ms/step - loss: 0.0155 - accuracy: 0.9999\n",
      "Epoch 82/100\n",
      "7/7 [==============================] - 1s 150ms/step - loss: 0.0143 - accuracy: 0.9999\n",
      "Epoch 83/100\n",
      "7/7 [==============================] - 1s 147ms/step - loss: 0.2234 - accuracy: 0.9313\n",
      "Epoch 84/100\n",
      "7/7 [==============================] - 1s 158ms/step - loss: 0.0493 - accuracy: 0.9895\n",
      "Epoch 85/100\n",
      "7/7 [==============================] - 1s 160ms/step - loss: 0.0208 - accuracy: 0.99920s - loss: 0.0228 - accu\n",
      "Epoch 86/100\n",
      "7/7 [==============================] - 1s 152ms/step - loss: 0.0159 - accuracy: 0.9999\n",
      "Epoch 87/100\n",
      "7/7 [==============================] - 1s 149ms/step - loss: 0.0142 - accuracy: 1.0000\n",
      "Epoch 88/100\n",
      "7/7 [==============================] - 1s 146ms/step - loss: 0.0148 - accuracy: 0.9992\n",
      "Epoch 89/100\n",
      "7/7 [==============================] - 1s 145ms/step - loss: 0.2342 - accuracy: 0.9277\n",
      "Epoch 90/100\n",
      "7/7 [==============================] - 1s 155ms/step - loss: 0.0289 - accuracy: 0.9972\n",
      "Epoch 91/100\n",
      "7/7 [==============================] - 1s 153ms/step - loss: 0.0164 - accuracy: 1.0000\n",
      "Epoch 92/100\n",
      "7/7 [==============================] - 1s 146ms/step - loss: 0.0142 - accuracy: 1.0000\n",
      "Epoch 93/100\n",
      "7/7 [==============================] - 1s 145ms/step - loss: 0.0132 - accuracy: 1.0000\n",
      "Epoch 94/100\n",
      "7/7 [==============================] - 1s 145ms/step - loss: 0.0124 - accuracy: 1.0000\n",
      "Epoch 95/100\n",
      "7/7 [==============================] - 1s 148ms/step - loss: 0.0116 - accuracy: 1.0000\n",
      "Epoch 96/100\n",
      "7/7 [==============================] - 1s 147ms/step - loss: 0.1339 - accuracy: 0.9709\n",
      "Epoch 97/100\n",
      "7/7 [==============================] - 1s 144ms/step - loss: 0.1654 - accuracy: 0.9535\n",
      "Epoch 98/100\n",
      "7/7 [==============================] - 1s 146ms/step - loss: 0.0215 - accuracy: 0.9986\n",
      "Epoch 99/100\n",
      "7/7 [==============================] - 1s 144ms/step - loss: 0.0149 - accuracy: 0.9999\n",
      "Epoch 100/100\n",
      "7/7 [==============================] - 1s 159ms/step - loss: 0.0134 - accuracy: 0.9999\n"
     ]
    },
    {
     "data": {
      "text/plain": [
       "<tensorflow.python.keras.callbacks.History at 0x281aa789108>"
      ]
     },
     "execution_count": 107,
     "metadata": {},
     "output_type": "execute_result"
    }
   ],
   "source": [
    "model.fit(\n",
    "    X_train,\n",
    "    Y_train,\n",
    "    batch_size=1600,\n",
    "    epochs=100,\n",
    "    validation_data = (X_val, Y_val))\n",
    "    #callbacks=[EarlyStopping(monitor='val_accuracy', patience=50)])"
   ]
  },
  {
   "cell_type": "code",
   "execution_count": 108,
   "metadata": {
    "_uuid": "0db183049b59d96388812a98efedfc865b7cc141"
   },
   "outputs": [
    {
     "name": "stdout",
     "output_type": "stream",
     "text": [
      "ROC AUC: 0.692\n",
      "\n",
      "Metrics with 0.50 decision boundary:\n",
      "Confusion matrix:\n",
      " [[898 402]\n",
      " [554 846]]\n",
      "Accuracy: 0.646\n",
      "Sensitivity : 0.604\n",
      "Specificity : 0.691\n"
     ]
    }
   ],
   "source": [
    "probabilities = model.predict(X_val)\n",
    "print('ROC AUC: {:.3f}\\n'.format(roc_auc_score(Y_val, probabilities)))\n",
    "\n",
    "boundary = 0.5\n",
    "pred = (probabilities > boundary).astype(int)\n",
    "print('Metrics with {:.2f} decision boundary:'.format(boundary))\n",
    "\n",
    "conf = confusion_matrix(Y_val, pred)\n",
    "print(\"Confusion matrix:\\n\", conf)\n",
    "print('Accuracy: {:.3f}'.format((conf[1, 1] + conf[0, 0]) / np.sum(conf)))\n",
    "print('Sensitivity : {:.3f}'.format(conf[1, 1] / (conf[1, 1] + conf[1, 0])))\n",
    "print('Specificity : {:.3f}'.format(conf[0, 0] / (conf[0, 0] + conf[0, 1])))"
   ]
  },
  {
   "cell_type": "code",
   "execution_count": 109,
   "metadata": {},
   "outputs": [
    {
     "data": {
      "image/png": "[encoded data removed]",
      "text/plain": [
       "<Figure size 432x288 with 1 Axes>"
      ]
     },
     "metadata": {
      "needs_background": "light"
     },
     "output_type": "display_data"
    }
   ],
   "source": [
    "clean_scores = []\n",
    "cheat_scores = []\n",
    "\n",
    "probabilities = model.predict(X_val)\n",
    "\n",
    "for i, p in enumerate(probabilities):\n",
    "    if (Y_val[i]) == 0:\n",
    "        clean_scores.append(p.item())\n",
    "    else:\n",
    "        cheat_scores.append(p.item())\n",
    "        \n",
    "plt.hist(clean_scores, label='clean', bins=50, alpha=0.5)\n",
    "plt.hist(cheat_scores, label='cheat', bins=50, alpha=0.5)\n",
    "plt.title(\"Cheatyness Score Histogram, Validation\")\n",
    "plt.legend(loc = 'upper center')\n",
    "plt.show()"
   ]
  },
  {
   "cell_type": "code",
   "execution_count": 116,
   "metadata": {},
   "outputs": [],
   "source": [
    "df_test = pd.read_csv('other.csv', header=None, delimiter=',',encoding='latin-1')\n",
    "X_test, Y_test = extract_features(df_test)"
   ]
  },
  {
   "cell_type": "code",
   "execution_count": 117,
   "metadata": {
    "scrolled": true
   },
   "outputs": [
    {
     "data": {
      "image/png": "[encoded data removed]",
      "text/plain": [
       "<Figure size 432x288 with 1 Axes>"
      ]
     },
     "metadata": {
      "needs_background": "light"
     },
     "output_type": "display_data"
    }
   ],
   "source": [
    "clean_scores = []\n",
    "cheat_scores = []\n",
    "\n",
    "probabilities = model.predict(X_test)\n",
    "\n",
    "for i, p in enumerate(probabilities):\n",
    "    if (Y_test[i]) == 0:\n",
    "        clean_scores.append(p.item())\n",
    "    else:\n",
    "        cheat_scores.append(p.item())\n",
    "        \n",
    "plt.hist(clean_scores, label='clean', bins=50, alpha=0.5)\n",
    "plt.hist(cheat_scores, label='cheat', bins=50, alpha=0.5)\n",
    "plt.title(\"Cheatyness Score Histogram, Test\")\n",
    "plt.legend(loc='upper center')\n",
    "plt.show()"
   ]
  },
  {
   "cell_type": "code",
   "execution_count": null,
   "metadata": {},
   "outputs": [],
   "source": []
  }
 ],
 "metadata": {
  "kernelspec": {
   "display_name": "Python 3",
   "language": "python",
   "name": "python3"
  },
  "language_info": {
   "codemirror_mode": {
    "name": "ipython",
    "version": 3
   },
   "file_extension": ".py",
   "mimetype": "text/x-python",
   "name": "python",
   "nbconvert_exporter": "python",
   "pygments_lexer": "ipython3",
   "version": "3.7.8"
  }
 },
 "nbformat": 4,
 "nbformat_minor": 1
}
