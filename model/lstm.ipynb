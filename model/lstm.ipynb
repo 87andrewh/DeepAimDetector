{
 "cells": [
  {
   "cell_type": "markdown",
   "metadata": {
    "_cell_guid": "79c7e3d0-c299-4dcb-8224-4455121ee9b0",
    "_uuid": "d629ff2d2480ee46fbb7e2d37f6b5fab8052498a",
    "collapsed": true
   },
   "source": [
    "# Import the necessary libraries"
   ]
  },
  {
   "cell_type": "code",
   "execution_count": 1,
   "metadata": {
    "_uuid": "d6fb32fd69316596e236eab5fb8cf77c848508c3"
   },
   "outputs": [
    {
     "name": "stderr",
     "output_type": "stream",
     "text": [
      "C:\\Users\\AHuang\\Anaconda3\\envs\\keras\\lib\\site-packages\\numpy\\_distributor_init.py:32: UserWarning: loaded more than 1 DLL from .libs:\n",
      "C:\\Users\\AHuang\\Anaconda3\\envs\\keras\\lib\\site-packages\\numpy\\.libs\\libopenblas.NOIJJG62EMASZI6NYURL6JBKM4EVBGM7.gfortran-win_amd64.dll\n",
      "C:\\Users\\AHuang\\Anaconda3\\envs\\keras\\lib\\site-packages\\numpy\\.libs\\libopenblas.PYQHXLVVQ7VESDPUVUADXEVJOBGHJPAY.gfortran-win_amd64.dll\n",
      "  stacklevel=1)\n",
      "Using TensorFlow backend.\n"
     ]
    }
   ],
   "source": [
    "import pandas as pd\n",
    "import numpy as np\n",
    "import matplotlib.pyplot as plt\n",
    "import seaborn as sb\n",
    "from sklearn.model_selection import train_test_split\n",
    "from sklearn.preprocessing import LabelEncoder\n",
    "from sklearn.metrics import confusion_matrix, roc_auc_score\n",
    "from keras import initializers\n",
    "from keras.models import Model\n",
    "from keras.layers import LSTM, Activation, Dense, Dropout, Input, Embedding, Bidirectional\n",
    "from tensorflow.keras import regularizers\n",
    "from tensorflow.keras.optimizers import RMSprop, Adam\n",
    "from keras.preprocessing.text import Tokenizer\n",
    "from keras.preprocessing import sequence\n",
    "from keras.utils import to_categorical\n",
    "from keras.callbacks import EarlyStopping\n",
    "%matplotlib inline\n",
    "\n",
    "np.set_printoptions(precision=3, suppress=True)\n",
    "\n",
    "seed = 16\n",
    "np.random.seed(seed)"
   ]
  },
  {
   "cell_type": "code",
   "execution_count": 2,
   "metadata": {
    "scrolled": false
   },
   "outputs": [
    {
     "name": "stderr",
     "output_type": "stream",
     "text": [
      "C:\\Users\\AHuang\\Anaconda3\\envs\\keras\\lib\\site-packages\\seaborn\\_decorators.py:43: FutureWarning: Pass the following variable as a keyword arg: x. From version 0.12, the only valid positional argument will be `data`, and passing other arguments without an explicit keyword will result in an error or misinterpretation.\n",
      "  FutureWarning\n"
     ]
    },
    {
     "data": {
      "text/plain": [
       "Text(0.5, 1.0, 'Clean and cheat samples, total')"
      ]
     },
     "execution_count": 2,
     "metadata": {},
     "output_type": "execute_result"
    },
    {
     "data": {
      "image/png": "[encoded data removed]",
      "text/plain": [
       "<Figure size 432x288 with 1 Axes>"
      ]
     },
     "metadata": {
      "needs_background": "light"
     },
     "output_type": "display_data"
    }
   ],
   "source": [
    "df = pd.read_csv('train.csv', header=None, delimiter=',',encoding='latin-1')\n",
    "\n",
    "sb.countplot(df[0])\n",
    "plt.xlabel('Cheating')\n",
    "plt.title('Clean and cheat samples, total')"
   ]
  },
  {
   "cell_type": "code",
   "execution_count": 3,
   "metadata": {},
   "outputs": [],
   "source": [
    "num_samples = 48\n",
    "num_features = 0\n",
    "\n",
    "def extract_features(df):\n",
    "    global num_samples # why tho\n",
    "    global num_features\n",
    "    data = df.to_numpy()\n",
    "    \n",
    "    Y = data[:, 0]\n",
    "    X = data[:, 1:]\n",
    "    \n",
    "    # Only us some features\n",
    "    features = [0, 1, 2, 3, 4, 5, 6]\n",
    "    num_features = len(features)\n",
    "    idxs = []\n",
    "    \n",
    "    for i in range(X.shape[1]):\n",
    "        if (i >= 7 * num_samples):\n",
    "            continue\n",
    "        if (i % 7) in features:\n",
    "            idxs.append(i)\n",
    "            \n",
    "    num_samples = len(idxs) // num_features\n",
    "    X = X[:, idxs]\n",
    "    X = X.reshape(-1, num_samples, num_features)\n",
    "    \n",
    "    return X, Y\n",
    "    \n",
    "\n",
    "def split(X, Y):\n",
    "    X_train, X_val, Y_train, Y_val = [], [], [], []\n",
    "    \n",
    "    # Split training at test set, in chunks to prevent information leak\n",
    "    chunk_size = 100\n",
    "    val_fraction = 0.2\n",
    "    chunks = [[*range(chunk_size * i, chunk_size * (i+1))] for i in range(Y.shape[0]//chunk_size)]\n",
    "    chunks.append([*range(chunk_size * (Y.shape[0]//chunk_size - 1), Y.shape[0] -1)])\n",
    "    np.random.shuffle(chunks)\n",
    "    \n",
    "    for i, chunk in enumerate(chunks):\n",
    "        if i < len(chunks) * 0.2:\n",
    "            X_val.extend(X[chunk])\n",
    "            Y_val.extend(Y[chunk])\n",
    "        else:\n",
    "            X_train.extend(X[chunk])\n",
    "            Y_train.extend(Y[chunk])\n",
    "            \n",
    "    X_train = np.array(X_train)\n",
    "    Y_train = np.array(Y_train)\n",
    "    X_val = np.array(X_val)\n",
    "    Y_val = np.array(Y_val)\n",
    "    \n",
    "    return X_train, Y_train, X_val, Y_val"
   ]
  },
  {
   "cell_type": "code",
   "execution_count": 10,
   "metadata": {},
   "outputs": [],
   "source": [
    "X, Y = extract_features(df)\n",
    "X_train, Y_train, X_val, Y_val = split(X, Y)"
   ]
  },
  {
   "cell_type": "code",
   "execution_count": 11,
   "metadata": {},
   "outputs": [
    {
     "name": "stderr",
     "output_type": "stream",
     "text": [
      "C:\\Users\\AHuang\\Anaconda3\\envs\\keras\\lib\\site-packages\\seaborn\\_decorators.py:43: FutureWarning: Pass the following variable as a keyword arg: x. From version 0.12, the only valid positional argument will be `data`, and passing other arguments without an explicit keyword will result in an error or misinterpretation.\n",
      "  FutureWarning\n"
     ]
    },
    {
     "data": {
      "text/plain": [
       "Text(0.5, 1.0, 'Clean and cheat samples, validation')"
      ]
     },
     "execution_count": 11,
     "metadata": {},
     "output_type": "execute_result"
    },
    {
     "data": {
      "image/png": "[encoded data removed]",
      "text/plain": [
       "<Figure size 432x288 with 1 Axes>"
      ]
     },
     "metadata": {
      "needs_background": "light"
     },
     "output_type": "display_data"
    }
   ],
   "source": [
    "sb.countplot(Y_val)\n",
    "plt.xlabel('Cheating')\n",
    "plt.title('Clean and cheat samples, validation')"
   ]
  },
  {
   "cell_type": "code",
   "execution_count": 6,
   "metadata": {},
   "outputs": [],
   "source": [
    "#values = np.moveaxis(X_train, 2, 0)\n",
    "#values = values.reshape(values.shape[0], -1)\n",
    "#means = np.mean(values, axis=1)\n",
    "#stds = np.std(values, axis=1)\n",
    "#print(means)\n",
    "#print(stds)\n",
    "#means = np.array([0, 0, 0, 0, 0, 0, 0]) # Vectors should be 0 mean\n",
    "#stds = np.array([1, 1, 1, 1, 1, 1, 1])\n",
    "#\n",
    "#X_train_norm = np.moveaxis(X_train, 2, 0)\n",
    "#X_train_norm = X_train_norm.reshape(X_train.shape[2], -1)\n",
    "#means_repeat = np.repeat(means[:, np.newaxis], X_train_norm.shape[1], axis=1)\n",
    "#stds_repeat = np.repeat(stds[:, np.newaxis], X_train_norm.shape[1], axis=1)\n",
    "#X_train_norm -= means_repeat\n",
    "#X_train_norm /= stds_repeat\n",
    "#X_train_norm = X_train_norm.reshape(X_train.shape[2], X_train.shape[0], -1)\n",
    "#X_train_norm = np.moveaxis(X_train_norm, 0, 2)\n",
    "#X_train = X_train_norm\n",
    "#\n",
    "#X_val_norm = np.moveaxis(X_val, 2, 0)\n",
    "#X_val_norm = X_val_norm.reshape(X_val.shape[2], -1)\n",
    "#means_repeat = np.repeat(means[:, np.newaxis], X_val_norm.shape[1], axis=1)\n",
    "#stds_repeat = np.repeat(stds[:, np.newaxis], X_val_norm.shape[1], axis=1)\n",
    "#X_val_norm -= means_repeat\n",
    "#X_val_norm /= stds_repeat\n",
    "#X_val_norm = X_val_norm.reshape(X_val.shape[2], X_val.shape[0], -1)\n",
    "#X_val_norm = np.moveaxis(X_val_norm, 0, 2)\n",
    "#X_val = X_val_norm"
   ]
  },
  {
   "cell_type": "code",
   "execution_count": 23,
   "metadata": {
    "_uuid": "78fff25b8be1de575bff071a2027f3dd2b11b911"
   },
   "outputs": [],
   "source": [
    "def RNN():\n",
    "    inputs = Input(name='inputs',shape=[num_samples, num_features])\n",
    "   \n",
    "    layer = LSTM(\n",
    "        512,\n",
    "        return_sequences=False,\n",
    "        kernel_regularizer=regularizers.l2(1e-4)\n",
    "    )(inputs)\n",
    "    #layer = Bidirectional(LSTM(128, return_sequences=False))(inputs)\n",
    "    #layer = Bidirectional(LSTM(128))(layer)\n",
    "    \n",
    "    layer = Dense(512, name='FC1')(layer)\n",
    "    layer = Activation('relu')(layer)\n",
    "    layer = Dropout(0.5)(layer)\n",
    "    layer = Dense(1, name='out')(layer)\n",
    "    layer = Activation('sigmoid')(layer)\n",
    "    model = Model(inputs=inputs,outputs=layer)\n",
    "    return model"
   ]
  },
  {
   "cell_type": "code",
   "execution_count": 24,
   "metadata": {
    "_uuid": "a0ede32d4127e8b4990fd74fe97fadef9e565d17",
    "scrolled": true
   },
   "outputs": [
    {
     "name": "stdout",
     "output_type": "stream",
     "text": [
      "Model: \"functional_11\"\n",
      "_________________________________________________________________\n",
      "Layer (type)                 Output Shape              Param #   \n",
      "=================================================================\n",
      "inputs (InputLayer)          [(None, 48, 7)]           0         \n",
      "_________________________________________________________________\n",
      "lstm_5 (LSTM)                (None, 512)               1064960   \n",
      "_________________________________________________________________\n",
      "FC1 (Dense)                  (None, 512)               262656    \n",
      "_________________________________________________________________\n",
      "activation_10 (Activation)   (None, 512)               0         \n",
      "_________________________________________________________________\n",
      "dropout_5 (Dropout)          (None, 512)               0         \n",
      "_________________________________________________________________\n",
      "out (Dense)                  (None, 1)                 513       \n",
      "_________________________________________________________________\n",
      "activation_11 (Activation)   (None, 1)                 0         \n",
      "=================================================================\n",
      "Total params: 1,328,129\n",
      "Trainable params: 1,328,129\n",
      "Non-trainable params: 0\n",
      "_________________________________________________________________\n"
     ]
    }
   ],
   "source": [
    "model = RNN()\n",
    "model.summary()\n",
    "opt = RMSprop(learning_rate=6e-4)\n",
    "model.compile(loss='binary_crossentropy', optimizer=opt, metrics=['accuracy'])"
   ]
  },
  {
   "cell_type": "code",
   "execution_count": 25,
   "metadata": {
    "_uuid": "98f6d6318352420ea49c532cda158f715f940f4b"
   },
   "outputs": [
    {
     "name": "stdout",
     "output_type": "stream",
     "text": [
      "Epoch 1/100\n",
      "6/6 [==============================] - 2s 255ms/step - loss: 0.9070 - accuracy: 0.5178 - val_loss: 0.7938 - val_accuracy: 0.5600\n",
      "Epoch 2/100\n",
      "6/6 [==============================] - 1s 186ms/step - loss: 0.7880 - accuracy: 0.5479 - val_loss: 0.7921 - val_accuracy: 0.4789\n",
      "Epoch 3/100\n",
      "6/6 [==============================] - 1s 181ms/step - loss: 0.7701 - accuracy: 0.5525 - val_loss: 0.7560 - val_accuracy: 0.5615\n",
      "Epoch 4/100\n",
      "6/6 [==============================] - 1s 182ms/step - loss: 0.7616 - accuracy: 0.5422 - val_loss: 0.7395 - val_accuracy: 0.5874\n",
      "Epoch 5/100\n",
      "6/6 [==============================] - 1s 173ms/step - loss: 0.7369 - accuracy: 0.5720 - val_loss: 0.7303 - val_accuracy: 0.5789\n",
      "Epoch 6/100\n",
      "6/6 [==============================] - 1s 172ms/step - loss: 0.7361 - accuracy: 0.5529 - val_loss: 0.7254 - val_accuracy: 0.5737\n",
      "Epoch 7/100\n",
      "6/6 [==============================] - 1s 174ms/step - loss: 0.7317 - accuracy: 0.5537 - val_loss: 0.7205 - val_accuracy: 0.5578\n",
      "Epoch 8/100\n",
      "6/6 [==============================] - 1s 194ms/step - loss: 0.7101 - accuracy: 0.5740 - val_loss: 0.7111 - val_accuracy: 0.5741\n",
      "Epoch 9/100\n",
      "6/6 [==============================] - 1s 175ms/step - loss: 0.7025 - accuracy: 0.5854 - val_loss: 0.7005 - val_accuracy: 0.5811\n",
      "Epoch 10/100\n",
      "6/6 [==============================] - 1s 171ms/step - loss: 0.7192 - accuracy: 0.5676 - val_loss: 0.7050 - val_accuracy: 0.5722\n",
      "Epoch 11/100\n",
      "6/6 [==============================] - 1s 174ms/step - loss: 0.6947 - accuracy: 0.5862 - val_loss: 0.6827 - val_accuracy: 0.6089\n",
      "Epoch 12/100\n",
      "6/6 [==============================] - 1s 176ms/step - loss: 0.6898 - accuracy: 0.5925 - val_loss: 0.6899 - val_accuracy: 0.5978\n",
      "Epoch 13/100\n",
      "6/6 [==============================] - 1s 189ms/step - loss: 0.6754 - accuracy: 0.6118 - val_loss: 0.6789 - val_accuracy: 0.6152\n",
      "Epoch 14/100\n",
      "6/6 [==============================] - 1s 183ms/step - loss: 0.7097 - accuracy: 0.5637 - val_loss: 0.6845 - val_accuracy: 0.6004\n",
      "Epoch 15/100\n",
      "6/6 [==============================] - 1s 190ms/step - loss: 0.6701 - accuracy: 0.6173 - val_loss: 0.6672 - val_accuracy: 0.6178\n",
      "Epoch 16/100\n",
      "6/6 [==============================] - 1s 174ms/step - loss: 0.6864 - accuracy: 0.5974 - val_loss: 0.6750 - val_accuracy: 0.5952\n",
      "Epoch 17/100\n",
      "6/6 [==============================] - 1s 175ms/step - loss: 0.6637 - accuracy: 0.6234 - val_loss: 0.6626 - val_accuracy: 0.6093\n",
      "Epoch 18/100\n",
      "6/6 [==============================] - 1s 173ms/step - loss: 0.6693 - accuracy: 0.6103 - val_loss: 0.6713 - val_accuracy: 0.6115\n",
      "Epoch 19/100\n",
      "6/6 [==============================] - 1s 186ms/step - loss: 0.6661 - accuracy: 0.6137 - val_loss: 0.6797 - val_accuracy: 0.5859\n",
      "Epoch 20/100\n",
      "6/6 [==============================] - 1s 184ms/step - loss: 0.6656 - accuracy: 0.6146 - val_loss: 0.6716 - val_accuracy: 0.6096\n",
      "Epoch 21/100\n",
      "6/6 [==============================] - 1s 178ms/step - loss: 0.6478 - accuracy: 0.6372 - val_loss: 0.6896 - val_accuracy: 0.5904\n",
      "Epoch 22/100\n",
      "6/6 [==============================] - 1s 172ms/step - loss: 0.6721 - accuracy: 0.6124 - val_loss: 0.6670 - val_accuracy: 0.6174\n",
      "Epoch 23/100\n",
      "6/6 [==============================] - 1s 173ms/step - loss: 0.6576 - accuracy: 0.6227 - val_loss: 0.6696 - val_accuracy: 0.6030\n",
      "Epoch 24/100\n",
      "6/6 [==============================] - 1s 174ms/step - loss: 0.6475 - accuracy: 0.6407 - val_loss: 0.7036 - val_accuracy: 0.5574\n",
      "Epoch 25/100\n",
      "6/6 [==============================] - 1s 203ms/step - loss: 0.6467 - accuracy: 0.6367 - val_loss: 0.6676 - val_accuracy: 0.6167\n",
      "Epoch 26/100\n",
      "6/6 [==============================] - 1s 203ms/step - loss: 0.6322 - accuracy: 0.6545 - val_loss: 0.7349 - val_accuracy: 0.5307\n",
      "Epoch 27/100\n",
      "6/6 [==============================] - 1s 202ms/step - loss: 0.6591 - accuracy: 0.6211 - val_loss: 0.6723 - val_accuracy: 0.6007\n",
      "Epoch 28/100\n",
      "6/6 [==============================] - 1s 204ms/step - loss: 0.6512 - accuracy: 0.6252 - val_loss: 0.6774 - val_accuracy: 0.5963\n",
      "Epoch 29/100\n",
      "6/6 [==============================] - 1s 203ms/step - loss: 0.6246 - accuracy: 0.6605 - val_loss: 0.6553 - val_accuracy: 0.6359\n",
      "Epoch 30/100\n",
      "6/6 [==============================] - 1s 203ms/step - loss: 0.6332 - accuracy: 0.6425 - val_loss: 0.6668 - val_accuracy: 0.6322\n",
      "Epoch 31/100\n",
      "6/6 [==============================] - 1s 204ms/step - loss: 0.6207 - accuracy: 0.6648 - val_loss: 0.6967 - val_accuracy: 0.5856\n",
      "Epoch 32/100\n",
      "6/6 [==============================] - 1s 205ms/step - loss: 0.6425 - accuracy: 0.6507 - val_loss: 0.6555 - val_accuracy: 0.6337\n",
      "Epoch 33/100\n",
      "6/6 [==============================] - 1s 202ms/step - loss: 0.6193 - accuracy: 0.6641 - val_loss: 0.6538 - val_accuracy: 0.6381\n",
      "Epoch 34/100\n",
      "6/6 [==============================] - 1s 202ms/step - loss: 0.6050 - accuracy: 0.6819 - val_loss: 0.6588 - val_accuracy: 0.6426\n",
      "Epoch 35/100\n",
      "6/6 [==============================] - 1s 204ms/step - loss: 0.6231 - accuracy: 0.6631 - val_loss: 0.6650 - val_accuracy: 0.6315\n",
      "Epoch 36/100\n",
      "6/6 [==============================] - 1s 203ms/step - loss: 0.5956 - accuracy: 0.6929 - val_loss: 0.6678 - val_accuracy: 0.6337\n",
      "Epoch 37/100\n",
      "6/6 [==============================] - 1s 202ms/step - loss: 0.6072 - accuracy: 0.6727 - val_loss: 0.6787 - val_accuracy: 0.6337\n",
      "Epoch 38/100\n",
      "6/6 [==============================] - 1s 203ms/step - loss: 0.6046 - accuracy: 0.6805 - val_loss: 0.6681 - val_accuracy: 0.6407\n",
      "Epoch 39/100\n",
      "6/6 [==============================] - 1s 203ms/step - loss: 0.5982 - accuracy: 0.6869 - val_loss: 0.6727 - val_accuracy: 0.6452\n",
      "Epoch 40/100\n",
      "6/6 [==============================] - 1s 205ms/step - loss: 0.5915 - accuracy: 0.6903 - val_loss: 0.6695 - val_accuracy: 0.6452\n",
      "Epoch 41/100\n",
      "6/6 [==============================] - 1s 206ms/step - loss: 0.5948 - accuracy: 0.6877 - val_loss: 0.6860 - val_accuracy: 0.6396\n",
      "Epoch 42/100\n",
      "6/6 [==============================] - 1s 199ms/step - loss: 0.5773 - accuracy: 0.6980 - val_loss: 0.6940 - val_accuracy: 0.6441\n",
      "Epoch 43/100\n",
      "6/6 [==============================] - 1s 197ms/step - loss: 0.5862 - accuracy: 0.6954 - val_loss: 0.6671 - val_accuracy: 0.6467\n",
      "Epoch 44/100\n",
      "6/6 [==============================] - 1s 192ms/step - loss: 0.5655 - accuracy: 0.7087 - val_loss: 0.6804 - val_accuracy: 0.6267\n",
      "Epoch 45/100\n",
      "6/6 [==============================] - 1s 192ms/step - loss: 0.5618 - accuracy: 0.7135 - val_loss: 0.7068 - val_accuracy: 0.6048\n",
      "Epoch 46/100\n",
      "6/6 [==============================] - 1s 193ms/step - loss: 0.5601 - accuracy: 0.7156 - val_loss: 0.6806 - val_accuracy: 0.6181\n",
      "Epoch 47/100\n",
      "6/6 [==============================] - 1s 184ms/step - loss: 0.5611 - accuracy: 0.7204 - val_loss: 0.7166 - val_accuracy: 0.5907\n",
      "Epoch 48/100\n",
      "6/6 [==============================] - 1s 189ms/step - loss: 0.5507 - accuracy: 0.7254 - val_loss: 0.6905 - val_accuracy: 0.6241\n",
      "Epoch 49/100\n",
      "6/6 [==============================] - 1s 177ms/step - loss: 0.5458 - accuracy: 0.7273 - val_loss: 0.7158 - val_accuracy: 0.5974\n",
      "Epoch 50/100\n",
      "6/6 [==============================] - 1s 183ms/step - loss: 0.5461 - accuracy: 0.7261 - val_loss: 0.6873 - val_accuracy: 0.6211\n",
      "Epoch 51/100\n",
      "6/6 [==============================] - 1s 177ms/step - loss: 0.5282 - accuracy: 0.7397 - val_loss: 0.6793 - val_accuracy: 0.6541\n",
      "Epoch 52/100\n",
      "6/6 [==============================] - 1s 173ms/step - loss: 0.5256 - accuracy: 0.7431 - val_loss: 0.7359 - val_accuracy: 0.5893\n",
      "Epoch 53/100\n",
      "6/6 [==============================] - 1s 181ms/step - loss: 0.5147 - accuracy: 0.7507 - val_loss: 0.7471 - val_accuracy: 0.5967\n",
      "Epoch 54/100\n",
      "6/6 [==============================] - 1s 180ms/step - loss: 0.5264 - accuracy: 0.7456 - val_loss: 0.7193 - val_accuracy: 0.6352\n",
      "Epoch 55/100\n",
      "6/6 [==============================] - 1s 177ms/step - loss: 0.5073 - accuracy: 0.7545 - val_loss: 0.7416 - val_accuracy: 0.6078\n",
      "Epoch 56/100\n",
      "6/6 [==============================] - 1s 175ms/step - loss: 0.4971 - accuracy: 0.7635 - val_loss: 0.7462 - val_accuracy: 0.6244\n",
      "Epoch 57/100\n",
      "6/6 [==============================] - 1s 181ms/step - loss: 0.4809 - accuracy: 0.7748 - val_loss: 0.7390 - val_accuracy: 0.6326\n",
      "Epoch 58/100\n",
      "6/6 [==============================] - 1s 179ms/step - loss: 0.4762 - accuracy: 0.7735 - val_loss: 0.7703 - val_accuracy: 0.6193\n"
     ]
    },
    {
     "name": "stdout",
     "output_type": "stream",
     "text": [
      "Epoch 59/100\n",
      "6/6 [==============================] - 1s 178ms/step - loss: 0.5018 - accuracy: 0.7609 - val_loss: 0.7280 - val_accuracy: 0.6370\n",
      "Epoch 60/100\n",
      "6/6 [==============================] - 1s 181ms/step - loss: 0.4535 - accuracy: 0.7947 - val_loss: 0.7871 - val_accuracy: 0.6359\n",
      "Epoch 61/100\n",
      "6/6 [==============================] - 1s 187ms/step - loss: 0.4665 - accuracy: 0.7786 - val_loss: 0.8078 - val_accuracy: 0.6374\n",
      "Epoch 62/100\n",
      "6/6 [==============================] - 1s 196ms/step - loss: 0.4478 - accuracy: 0.7935 - val_loss: 0.7999 - val_accuracy: 0.6437\n",
      "Epoch 63/100\n",
      "6/6 [==============================] - 1s 174ms/step - loss: 0.4604 - accuracy: 0.7874 - val_loss: 0.7704 - val_accuracy: 0.6548\n",
      "Epoch 64/100\n",
      "6/6 [==============================] - 1s 177ms/step - loss: 0.4268 - accuracy: 0.8094 - val_loss: 0.8035 - val_accuracy: 0.6481\n",
      "Epoch 65/100\n",
      "6/6 [==============================] - 1s 182ms/step - loss: 0.4319 - accuracy: 0.8055 - val_loss: 0.8056 - val_accuracy: 0.6544\n",
      "Epoch 66/100\n",
      "6/6 [==============================] - 1s 184ms/step - loss: 0.4249 - accuracy: 0.8067 - val_loss: 0.8163 - val_accuracy: 0.6500\n",
      "Epoch 67/100\n",
      "6/6 [==============================] - 1s 177ms/step - loss: 0.4024 - accuracy: 0.8231 - val_loss: 0.8441 - val_accuracy: 0.6419\n",
      "Epoch 68/100\n",
      "6/6 [==============================] - 1s 186ms/step - loss: 0.4067 - accuracy: 0.8222 - val_loss: 0.8670 - val_accuracy: 0.6448\n",
      "Epoch 69/100\n",
      "6/6 [==============================] - 1s 174ms/step - loss: 0.3946 - accuracy: 0.8268 - val_loss: 0.8670 - val_accuracy: 0.6378\n",
      "Epoch 70/100\n",
      "6/6 [==============================] - 1s 176ms/step - loss: 0.3655 - accuracy: 0.8429 - val_loss: 0.8322 - val_accuracy: 0.6330\n",
      "Epoch 71/100\n",
      "6/6 [==============================] - 1s 179ms/step - loss: 0.3815 - accuracy: 0.8398 - val_loss: 0.9111 - val_accuracy: 0.6452\n",
      "Epoch 72/100\n",
      "6/6 [==============================] - 1s 175ms/step - loss: 0.3707 - accuracy: 0.8433 - val_loss: 0.8839 - val_accuracy: 0.6404\n",
      "Epoch 73/100\n",
      "6/6 [==============================] - 1s 179ms/step - loss: 0.3664 - accuracy: 0.8448 - val_loss: 0.8812 - val_accuracy: 0.6359\n",
      "Epoch 74/100\n",
      "6/6 [==============================] - 1s 183ms/step - loss: 0.3344 - accuracy: 0.8628 - val_loss: 0.9801 - val_accuracy: 0.6448\n",
      "Epoch 75/100\n",
      "6/6 [==============================] - 1s 193ms/step - loss: 0.3757 - accuracy: 0.8369 - val_loss: 0.9584 - val_accuracy: 0.6419\n",
      "Epoch 76/100\n",
      "6/6 [==============================] - 1s 184ms/step - loss: 0.3343 - accuracy: 0.8623 - val_loss: 0.9183 - val_accuracy: 0.6459\n",
      "Epoch 77/100\n",
      "6/6 [==============================] - 1s 180ms/step - loss: 0.3198 - accuracy: 0.8675 - val_loss: 0.9479 - val_accuracy: 0.6496\n",
      "Epoch 78/100\n",
      "6/6 [==============================] - 1s 182ms/step - loss: 0.3246 - accuracy: 0.8658 - val_loss: 0.9681 - val_accuracy: 0.6393\n",
      "Epoch 79/100\n",
      "6/6 [==============================] - 1s 179ms/step - loss: 0.2980 - accuracy: 0.8808 - val_loss: 0.9415 - val_accuracy: 0.6448\n",
      "Epoch 80/100\n",
      "6/6 [==============================] - 1s 177ms/step - loss: 0.2945 - accuracy: 0.8809 - val_loss: 1.0540 - val_accuracy: 0.6344\n",
      "Epoch 81/100\n",
      "6/6 [==============================] - 1s 179ms/step - loss: 0.3260 - accuracy: 0.8647 - val_loss: 1.0241 - val_accuracy: 0.6322\n",
      "Epoch 82/100\n",
      "6/6 [==============================] - 1s 181ms/step - loss: 0.2439 - accuracy: 0.9070 - val_loss: 1.1333 - val_accuracy: 0.6256\n",
      "Epoch 83/100\n",
      "6/6 [==============================] - 1s 182ms/step - loss: 0.2691 - accuracy: 0.8974 - val_loss: 1.0920 - val_accuracy: 0.6363\n",
      "Epoch 84/100\n",
      "6/6 [==============================] - 1s 176ms/step - loss: 0.2591 - accuracy: 0.9027 - val_loss: 1.0925 - val_accuracy: 0.6381\n",
      "Epoch 85/100\n",
      "6/6 [==============================] - 1s 179ms/step - loss: 0.2860 - accuracy: 0.8895 - val_loss: 1.2552 - val_accuracy: 0.5833\n",
      "Epoch 86/100\n",
      "6/6 [==============================] - 1s 176ms/step - loss: 0.2918 - accuracy: 0.8884 - val_loss: 1.1160 - val_accuracy: 0.6385\n",
      "Epoch 87/100\n",
      "6/6 [==============================] - 1s 187ms/step - loss: 0.1996 - accuracy: 0.9274 - val_loss: 1.1744 - val_accuracy: 0.6467\n",
      "Epoch 88/100\n",
      "6/6 [==============================] - 1s 185ms/step - loss: 0.2662 - accuracy: 0.8981 - val_loss: 1.1562 - val_accuracy: 0.6293\n",
      "Epoch 89/100\n",
      "6/6 [==============================] - 1s 180ms/step - loss: 0.2311 - accuracy: 0.9159 - val_loss: 1.1911 - val_accuracy: 0.6389\n",
      "Epoch 90/100\n",
      "6/6 [==============================] - 1s 179ms/step - loss: 0.2130 - accuracy: 0.9251 - val_loss: 1.2302 - val_accuracy: 0.6267\n",
      "Epoch 91/100\n",
      "6/6 [==============================] - 1s 178ms/step - loss: 0.2221 - accuracy: 0.9198 - val_loss: 1.2980 - val_accuracy: 0.6074\n",
      "Epoch 92/100\n",
      "6/6 [==============================] - 1s 185ms/step - loss: 0.2260 - accuracy: 0.9179 - val_loss: 1.2462 - val_accuracy: 0.6304\n",
      "Epoch 93/100\n",
      "6/6 [==============================] - 1s 175ms/step - loss: 0.1661 - accuracy: 0.9447 - val_loss: 1.2703 - val_accuracy: 0.6441\n",
      "Epoch 94/100\n",
      "6/6 [==============================] - 1s 187ms/step - loss: 0.2399 - accuracy: 0.9113 - val_loss: 1.2213 - val_accuracy: 0.6315\n",
      "Epoch 95/100\n",
      "6/6 [==============================] - 1s 190ms/step - loss: 0.1594 - accuracy: 0.9483 - val_loss: 1.3689 - val_accuracy: 0.6296\n",
      "Epoch 96/100\n",
      "6/6 [==============================] - 1s 176ms/step - loss: 0.1991 - accuracy: 0.9309 - val_loss: 1.2020 - val_accuracy: 0.6441\n",
      "Epoch 97/100\n",
      "6/6 [==============================] - 1s 180ms/step - loss: 0.1595 - accuracy: 0.9497 - val_loss: 1.3695 - val_accuracy: 0.6315\n",
      "Epoch 98/100\n",
      "6/6 [==============================] - 1s 177ms/step - loss: 0.1920 - accuracy: 0.9310 - val_loss: 1.2542 - val_accuracy: 0.6359\n",
      "Epoch 99/100\n",
      "6/6 [==============================] - 1s 176ms/step - loss: 0.1523 - accuracy: 0.9475 - val_loss: 1.4650 - val_accuracy: 0.6307\n",
      "Epoch 100/100\n",
      "6/6 [==============================] - 1s 180ms/step - loss: 0.1380 - accuracy: 0.9569 - val_loss: 1.7412 - val_accuracy: 0.5904\n"
     ]
    },
    {
     "data": {
      "text/plain": [
       "<tensorflow.python.keras.callbacks.History at 0x1dd99cd0108>"
      ]
     },
     "execution_count": 25,
     "metadata": {},
     "output_type": "execute_result"
    }
   ],
   "source": [
    "model.fit(\n",
    "    X_train,\n",
    "    Y_train,\n",
    "    batch_size=1800,\n",
    "    epochs=100,\n",
    "    validation_data = (X_val, Y_val))\n",
    "    #callbacks=[EarlyStopping(monitor='val_accuracy', patience=50)])"
   ]
  },
  {
   "cell_type": "code",
   "execution_count": 26,
   "metadata": {},
   "outputs": [
    {
     "name": "stdout",
     "output_type": "stream",
     "text": [
      "ROC AUC: 0.641\n"
     ]
    },
    {
     "data": {
      "image/png": "[encoded data removed]",
      "text/plain": [
       "<Figure size 432x288 with 1 Axes>"
      ]
     },
     "metadata": {
      "needs_background": "light"
     },
     "output_type": "display_data"
    }
   ],
   "source": [
    "probabilities = model.predict(X_val)\n",
    "\n",
    "print('ROC AUC: {:.3f}'.format(roc_auc_score(Y_val, probabilities)))\n",
    "\n",
    "clean_scores = []\n",
    "cheat_scores = []\n",
    "\n",
    "for i, p in enumerate(probabilities):\n",
    "    if (Y_val[i]) == 0:\n",
    "        clean_scores.append(p.item())\n",
    "    else:\n",
    "        cheat_scores.append(p.item())\n",
    "        \n",
    "plt.hist(clean_scores, label='clean', bins=50, alpha=0.5)\n",
    "plt.hist(cheat_scores, label='cheat', bins=50, alpha=0.5)\n",
    "plt.title(\"Cheatyness Score Histogram, Validation\")\n",
    "plt.legend(loc = 'upper center')\n",
    "plt.show()"
   ]
  },
  {
   "cell_type": "code",
   "execution_count": 27,
   "metadata": {},
   "outputs": [],
   "source": [
    "df_test = pd.read_csv('other.csv', header=None, delimiter=',',encoding='latin-1')\n",
    "X_test, Y_test = extract_features(df_test)"
   ]
  },
  {
   "cell_type": "code",
   "execution_count": 28,
   "metadata": {},
   "outputs": [
    {
     "name": "stdout",
     "output_type": "stream",
     "text": [
      "Model: \"functional_13\"\n",
      "_________________________________________________________________\n",
      "Layer (type)                 Output Shape              Param #   \n",
      "=================================================================\n",
      "inputs (InputLayer)          [(None, 48, 7)]           0         \n",
      "_________________________________________________________________\n",
      "lstm_6 (LSTM)                (None, 512)               1064960   \n",
      "_________________________________________________________________\n",
      "FC1 (Dense)                  (None, 512)               262656    \n",
      "_________________________________________________________________\n",
      "activation_12 (Activation)   (None, 512)               0         \n",
      "_________________________________________________________________\n",
      "dropout_6 (Dropout)          (None, 512)               0         \n",
      "_________________________________________________________________\n",
      "out (Dense)                  (None, 1)                 513       \n",
      "_________________________________________________________________\n",
      "activation_13 (Activation)   (None, 1)                 0         \n",
      "=================================================================\n",
      "Total params: 1,328,129\n",
      "Trainable params: 1,328,129\n",
      "Non-trainable params: 0\n",
      "_________________________________________________________________\n",
      "Epoch 1/100\n",
      "2/8 [======>.......................] - ETA: 0s - loss: 1.1248 - accuracy: 0.5144WARNING:tensorflow:Callbacks method `on_train_batch_end` is slow compared to the batch time (batch time: 0.0668s vs `on_train_batch_end` time: 0.1077s). Check your callbacks.\n",
      "8/8 [==============================] - 2s 202ms/step - loss: 0.8987 - accuracy: 0.5138 - val_loss: 0.7918 - val_accuracy: 0.4679\n",
      "Epoch 2/100\n",
      "8/8 [==============================] - 1s 155ms/step - loss: 0.7815 - accuracy: 0.5338 - val_loss: 0.7911 - val_accuracy: 0.4689\n",
      "Epoch 3/100\n",
      "8/8 [==============================] - 1s 157ms/step - loss: 0.7615 - accuracy: 0.5554 - val_loss: 0.8229 - val_accuracy: 0.4638\n",
      "Epoch 4/100\n",
      "8/8 [==============================] - 1s 159ms/step - loss: 0.7365 - accuracy: 0.5697 - val_loss: 0.7477 - val_accuracy: 0.5300\n",
      "Epoch 5/100\n",
      "8/8 [==============================] - 1s 167ms/step - loss: 0.7263 - accuracy: 0.5695 - val_loss: 0.7582 - val_accuracy: 0.5238\n",
      "Epoch 6/100\n",
      "8/8 [==============================] - 1s 158ms/step - loss: 0.7170 - accuracy: 0.5691 - val_loss: 0.7779 - val_accuracy: 0.4545\n",
      "Epoch 7/100\n",
      "8/8 [==============================] - 1s 155ms/step - loss: 0.7021 - accuracy: 0.5824 - val_loss: 0.8311 - val_accuracy: 0.4565\n",
      "Epoch 8/100\n",
      "8/8 [==============================] - 1s 155ms/step - loss: 0.7022 - accuracy: 0.5768 - val_loss: 0.7649 - val_accuracy: 0.4565\n",
      "Epoch 9/100\n",
      "8/8 [==============================] - 1s 162ms/step - loss: 0.6855 - accuracy: 0.5955 - val_loss: 0.7116 - val_accuracy: 0.5663\n",
      "Epoch 10/100\n",
      "8/8 [==============================] - 1s 167ms/step - loss: 0.6952 - accuracy: 0.5838 - val_loss: 0.6718 - val_accuracy: 0.6315\n",
      "Epoch 11/100\n",
      "8/8 [==============================] - 1s 159ms/step - loss: 0.6756 - accuracy: 0.6113 - val_loss: 0.6968 - val_accuracy: 0.5952\n",
      "Epoch 12/100\n",
      "8/8 [==============================] - 1s 162ms/step - loss: 0.6803 - accuracy: 0.6009 - val_loss: 0.6988 - val_accuracy: 0.5818\n",
      "Epoch 13/100\n",
      "8/8 [==============================] - 1s 178ms/step - loss: 0.6674 - accuracy: 0.6164 - val_loss: 0.7281 - val_accuracy: 0.5311\n",
      "Epoch 14/100\n",
      "8/8 [==============================] - 1s 167ms/step - loss: 0.6690 - accuracy: 0.6112 - val_loss: 0.7113 - val_accuracy: 0.4990\n",
      "Epoch 15/100\n",
      "8/8 [==============================] - 1s 156ms/step - loss: 0.6640 - accuracy: 0.6155 - val_loss: 0.7649 - val_accuracy: 0.4617\n",
      "Epoch 16/100\n",
      "8/8 [==============================] - 1s 156ms/step - loss: 0.6661 - accuracy: 0.6141 - val_loss: 0.7190 - val_accuracy: 0.5787\n",
      "Epoch 17/100\n",
      "8/8 [==============================] - 1s 155ms/step - loss: 0.6541 - accuracy: 0.6319 - val_loss: 0.7538 - val_accuracy: 0.4959\n",
      "Epoch 18/100\n",
      "8/8 [==============================] - 1s 156ms/step - loss: 0.6648 - accuracy: 0.6156 - val_loss: 0.7332 - val_accuracy: 0.5497\n",
      "Epoch 19/100\n",
      "8/8 [==============================] - 1s 159ms/step - loss: 0.6467 - accuracy: 0.6362 - val_loss: 0.6660 - val_accuracy: 0.6190\n",
      "Epoch 20/100\n",
      "8/8 [==============================] - 1s 155ms/step - loss: 0.6584 - accuracy: 0.6238 - val_loss: 0.6715 - val_accuracy: 0.5932\n",
      "Epoch 21/100\n",
      "8/8 [==============================] - 1s 155ms/step - loss: 0.6463 - accuracy: 0.6360 - val_loss: 0.6649 - val_accuracy: 0.6046\n",
      "Epoch 22/100\n",
      "8/8 [==============================] - 1s 165ms/step - loss: 0.6391 - accuracy: 0.6499 - val_loss: 0.6952 - val_accuracy: 0.5714\n",
      "Epoch 23/100\n",
      "8/8 [==============================] - 1s 161ms/step - loss: 0.6392 - accuracy: 0.6449 - val_loss: 0.6999 - val_accuracy: 0.5704\n",
      "Epoch 24/100\n",
      "8/8 [==============================] - 1s 168ms/step - loss: 0.6340 - accuracy: 0.6505 - val_loss: 0.6926 - val_accuracy: 0.5756\n",
      "Epoch 25/100\n",
      "8/8 [==============================] - 1s 157ms/step - loss: 0.6355 - accuracy: 0.6503 - val_loss: 0.6925 - val_accuracy: 0.5797\n",
      "Epoch 26/100\n",
      "8/8 [==============================] - 1s 154ms/step - loss: 0.6345 - accuracy: 0.6506 - val_loss: 0.7125 - val_accuracy: 0.5766\n",
      "Epoch 27/100\n",
      "8/8 [==============================] - 1s 159ms/step - loss: 0.6291 - accuracy: 0.6579 - val_loss: 0.6643 - val_accuracy: 0.6387\n",
      "Epoch 28/100\n",
      "8/8 [==============================] - 1s 166ms/step - loss: 0.6271 - accuracy: 0.6565 - val_loss: 0.6766 - val_accuracy: 0.5973\n",
      "Epoch 29/100\n",
      "8/8 [==============================] - 1s 159ms/step - loss: 0.6235 - accuracy: 0.6681 - val_loss: 0.6711 - val_accuracy: 0.5911\n",
      "Epoch 30/100\n",
      "8/8 [==============================] - 1s 163ms/step - loss: 0.6089 - accuracy: 0.6776 - val_loss: 0.7397 - val_accuracy: 0.5631\n",
      "Epoch 31/100\n",
      "8/8 [==============================] - 1s 159ms/step - loss: 0.6144 - accuracy: 0.6712 - val_loss: 0.6961 - val_accuracy: 0.5932\n",
      "Epoch 32/100\n",
      "8/8 [==============================] - 1s 160ms/step - loss: 0.6038 - accuracy: 0.6852 - val_loss: 0.6469 - val_accuracy: 0.6232\n",
      "Epoch 33/100\n",
      "8/8 [==============================] - 1s 164ms/step - loss: 0.5987 - accuracy: 0.6812 - val_loss: 0.7096 - val_accuracy: 0.5911\n",
      "Epoch 34/100\n",
      "8/8 [==============================] - 1s 160ms/step - loss: 0.5937 - accuracy: 0.6907 - val_loss: 0.7438 - val_accuracy: 0.6149\n",
      "Epoch 35/100\n",
      "8/8 [==============================] - 1s 159ms/step - loss: 0.5994 - accuracy: 0.6851 - val_loss: 0.7063 - val_accuracy: 0.5880\n",
      "Epoch 36/100\n",
      "8/8 [==============================] - 1s 161ms/step - loss: 0.5807 - accuracy: 0.6963 - val_loss: 0.7125 - val_accuracy: 0.5756\n",
      "Epoch 37/100\n",
      "8/8 [==============================] - 1s 159ms/step - loss: 0.5893 - accuracy: 0.6943 - val_loss: 0.7063 - val_accuracy: 0.6253\n",
      "Epoch 38/100\n",
      "8/8 [==============================] - 1s 162ms/step - loss: 0.5670 - accuracy: 0.7120 - val_loss: 0.6860 - val_accuracy: 0.6149\n",
      "Epoch 39/100\n",
      "8/8 [==============================] - 1s 163ms/step - loss: 0.5791 - accuracy: 0.6999 - val_loss: 0.7121 - val_accuracy: 0.6004\n",
      "Epoch 40/100\n",
      "8/8 [==============================] - 1s 163ms/step - loss: 0.5504 - accuracy: 0.7244 - val_loss: 0.8090 - val_accuracy: 0.5600\n",
      "Epoch 41/100\n",
      "8/8 [==============================] - 1s 161ms/step - loss: 0.5542 - accuracy: 0.7199 - val_loss: 0.8005 - val_accuracy: 0.5776\n",
      "Epoch 42/100\n",
      "8/8 [==============================] - 1s 162ms/step - loss: 0.5630 - accuracy: 0.7174 - val_loss: 0.7480 - val_accuracy: 0.5973\n",
      "Epoch 43/100\n",
      "8/8 [==============================] - 1s 164ms/step - loss: 0.5520 - accuracy: 0.7221 - val_loss: 0.7877 - val_accuracy: 0.5683\n",
      "Epoch 44/100\n",
      "8/8 [==============================] - 1s 175ms/step - loss: 0.5381 - accuracy: 0.7353 - val_loss: 0.7435 - val_accuracy: 0.5818\n",
      "Epoch 45/100\n",
      "8/8 [==============================] - 1s 172ms/step - loss: 0.5317 - accuracy: 0.7384 - val_loss: 0.7393 - val_accuracy: 0.5807\n",
      "Epoch 46/100\n",
      "8/8 [==============================] - 1s 161ms/step - loss: 0.5180 - accuracy: 0.7467 - val_loss: 0.7572 - val_accuracy: 0.5901\n",
      "Epoch 47/100\n",
      "8/8 [==============================] - 1s 165ms/step - loss: 0.5144 - accuracy: 0.7504 - val_loss: 0.7828 - val_accuracy: 0.5797\n"
     ]
    },
    {
     "name": "stdout",
     "output_type": "stream",
     "text": [
      "Epoch 48/100\n",
      "8/8 [==============================] - 1s 179ms/step - loss: 0.4988 - accuracy: 0.7601 - val_loss: 0.8470 - val_accuracy: 0.5487\n",
      "Epoch 49/100\n",
      "8/8 [==============================] - 1s 165ms/step - loss: 0.5404 - accuracy: 0.7345 - val_loss: 0.7907 - val_accuracy: 0.6014\n",
      "Epoch 50/100\n",
      "8/8 [==============================] - 1s 158ms/step - loss: 0.4900 - accuracy: 0.7673 - val_loss: 0.6951 - val_accuracy: 0.6284\n",
      "Epoch 51/100\n",
      "8/8 [==============================] - 1s 159ms/step - loss: 0.4793 - accuracy: 0.7734 - val_loss: 0.7306 - val_accuracy: 0.6170\n",
      "Epoch 52/100\n",
      "8/8 [==============================] - 1s 161ms/step - loss: 0.4798 - accuracy: 0.7748 - val_loss: 0.8036 - val_accuracy: 0.5952\n",
      "Epoch 53/100\n",
      "8/8 [==============================] - 1s 160ms/step - loss: 0.4498 - accuracy: 0.7971 - val_loss: 0.7561 - val_accuracy: 0.6284\n",
      "Epoch 54/100\n",
      "8/8 [==============================] - 1s 160ms/step - loss: 0.4770 - accuracy: 0.7766 - val_loss: 0.8400 - val_accuracy: 0.5880\n",
      "Epoch 55/100\n",
      "8/8 [==============================] - 1s 163ms/step - loss: 0.4483 - accuracy: 0.7929 - val_loss: 0.8007 - val_accuracy: 0.6118\n",
      "Epoch 56/100\n",
      "8/8 [==============================] - 1s 161ms/step - loss: 0.4515 - accuracy: 0.7915 - val_loss: 0.8558 - val_accuracy: 0.5776\n",
      "Epoch 57/100\n",
      "8/8 [==============================] - 1s 159ms/step - loss: 0.4205 - accuracy: 0.8111 - val_loss: 0.8028 - val_accuracy: 0.6118\n",
      "Epoch 58/100\n",
      "8/8 [==============================] - 1s 164ms/step - loss: 0.4330 - accuracy: 0.8014 - val_loss: 0.7706 - val_accuracy: 0.6356\n",
      "Epoch 59/100\n",
      "8/8 [==============================] - 1s 159ms/step - loss: 0.4100 - accuracy: 0.8217 - val_loss: 0.9627 - val_accuracy: 0.5890\n",
      "Epoch 60/100\n",
      "8/8 [==============================] - 1s 171ms/step - loss: 0.4076 - accuracy: 0.8213 - val_loss: 0.9509 - val_accuracy: 0.5704\n",
      "Epoch 61/100\n",
      "8/8 [==============================] - 1s 163ms/step - loss: 0.3908 - accuracy: 0.8289 - val_loss: 0.9659 - val_accuracy: 0.5714\n",
      "Epoch 62/100\n",
      "8/8 [==============================] - 1s 169ms/step - loss: 0.3810 - accuracy: 0.8328 - val_loss: 0.9845 - val_accuracy: 0.5983\n",
      "Epoch 63/100\n",
      "8/8 [==============================] - 1s 164ms/step - loss: 0.3853 - accuracy: 0.8353 - val_loss: 0.9787 - val_accuracy: 0.5890\n",
      "Epoch 64/100\n",
      "8/8 [==============================] - 1s 162ms/step - loss: 0.3634 - accuracy: 0.8429 - val_loss: 0.9392 - val_accuracy: 0.6097\n",
      "Epoch 65/100\n",
      "8/8 [==============================] - 1s 162ms/step - loss: 0.3699 - accuracy: 0.8405 - val_loss: 0.9996 - val_accuracy: 0.5870\n",
      "Epoch 66/100\n",
      "8/8 [==============================] - 1s 160ms/step - loss: 0.3649 - accuracy: 0.8402 - val_loss: 1.0025 - val_accuracy: 0.5901\n",
      "Epoch 67/100\n",
      "8/8 [==============================] - 1s 159ms/step - loss: 0.3321 - accuracy: 0.8598 - val_loss: 1.1046 - val_accuracy: 0.5870\n",
      "Epoch 68/100\n",
      "8/8 [==============================] - 1s 156ms/step - loss: 0.3395 - accuracy: 0.8568 - val_loss: 1.0999 - val_accuracy: 0.5901\n",
      "Epoch 69/100\n",
      "8/8 [==============================] - 1s 165ms/step - loss: 0.3203 - accuracy: 0.8663 - val_loss: 1.1195 - val_accuracy: 0.5776\n",
      "Epoch 70/100\n",
      "8/8 [==============================] - 1s 163ms/step - loss: 0.3001 - accuracy: 0.8765 - val_loss: 1.2025 - val_accuracy: 0.5828\n",
      "Epoch 71/100\n",
      "8/8 [==============================] - 1s 163ms/step - loss: 0.3350 - accuracy: 0.8624 - val_loss: 1.1440 - val_accuracy: 0.6056\n",
      "Epoch 72/100\n",
      "8/8 [==============================] - 1s 162ms/step - loss: 0.2746 - accuracy: 0.8892 - val_loss: 1.2176 - val_accuracy: 0.5963\n",
      "Epoch 73/100\n",
      "8/8 [==============================] - 1s 163ms/step - loss: 0.3141 - accuracy: 0.8742 - val_loss: 1.2901 - val_accuracy: 0.5631\n",
      "Epoch 74/100\n",
      "8/8 [==============================] - 1s 169ms/step - loss: 0.2671 - accuracy: 0.8949 - val_loss: 1.2547 - val_accuracy: 0.5776\n",
      "Epoch 75/100\n",
      "8/8 [==============================] - 1s 168ms/step - loss: 0.2773 - accuracy: 0.8921 - val_loss: 1.2258 - val_accuracy: 0.5952\n",
      "Epoch 76/100\n",
      "8/8 [==============================] - 1s 166ms/step - loss: 0.2604 - accuracy: 0.9025 - val_loss: 1.4233 - val_accuracy: 0.5663\n",
      "Epoch 77/100\n",
      "8/8 [==============================] - 1s 161ms/step - loss: 0.2630 - accuracy: 0.8997 - val_loss: 1.3316 - val_accuracy: 0.5704\n",
      "Epoch 78/100\n",
      "8/8 [==============================] - 1s 159ms/step - loss: 0.2975 - accuracy: 0.8816 - val_loss: 1.2225 - val_accuracy: 0.5797\n",
      "Epoch 79/100\n",
      "8/8 [==============================] - 1s 161ms/step - loss: 0.2129 - accuracy: 0.9215 - val_loss: 1.4037 - val_accuracy: 0.5725\n",
      "Epoch 80/100\n",
      "8/8 [==============================] - 1s 161ms/step - loss: 0.2572 - accuracy: 0.8987 - val_loss: 1.3985 - val_accuracy: 0.5642\n",
      "Epoch 81/100\n",
      "8/8 [==============================] - 1s 158ms/step - loss: 0.2317 - accuracy: 0.9147 - val_loss: 1.4037 - val_accuracy: 0.5983\n",
      "Epoch 82/100\n",
      "8/8 [==============================] - 1s 164ms/step - loss: 0.2242 - accuracy: 0.9155 - val_loss: 1.3771 - val_accuracy: 0.6077\n",
      "Epoch 83/100\n",
      "8/8 [==============================] - 1s 163ms/step - loss: 0.1910 - accuracy: 0.9320 - val_loss: 1.5133 - val_accuracy: 0.5704\n",
      "Epoch 84/100\n",
      "8/8 [==============================] - 1s 158ms/step - loss: 0.2258 - accuracy: 0.9181 - val_loss: 1.5362 - val_accuracy: 0.5663\n",
      "Epoch 85/100\n",
      "8/8 [==============================] - 1s 161ms/step - loss: 0.2325 - accuracy: 0.9143 - val_loss: 1.4315 - val_accuracy: 0.5942\n",
      "Epoch 86/100\n",
      "8/8 [==============================] - 1s 161ms/step - loss: 0.1588 - accuracy: 0.9464 - val_loss: 1.5551 - val_accuracy: 0.5828\n",
      "Epoch 87/100\n",
      "8/8 [==============================] - 1s 160ms/step - loss: 0.2508 - accuracy: 0.9070 - val_loss: 1.5826 - val_accuracy: 0.5663\n",
      "Epoch 88/100\n",
      "8/8 [==============================] - 1s 158ms/step - loss: 0.1514 - accuracy: 0.9522 - val_loss: 1.5704 - val_accuracy: 0.6004\n",
      "Epoch 89/100\n",
      "8/8 [==============================] - 1s 158ms/step - loss: 0.1829 - accuracy: 0.9366 - val_loss: 1.4783 - val_accuracy: 0.6108\n",
      "Epoch 90/100\n",
      "8/8 [==============================] - 1s 163ms/step - loss: 0.2123 - accuracy: 0.9238 - val_loss: 1.5705 - val_accuracy: 0.5994\n",
      "Epoch 91/100\n",
      "8/8 [==============================] - 1s 162ms/step - loss: 0.1310 - accuracy: 0.9584 - val_loss: 1.7861 - val_accuracy: 0.5839\n",
      "Epoch 92/100\n",
      "8/8 [==============================] - 1s 164ms/step - loss: 0.2246 - accuracy: 0.9186 - val_loss: 1.5637 - val_accuracy: 0.5828\n",
      "Epoch 93/100\n",
      "8/8 [==============================] - 1s 160ms/step - loss: 0.1359 - accuracy: 0.9591 - val_loss: 1.7612 - val_accuracy: 0.5994\n",
      "Epoch 94/100\n",
      "8/8 [==============================] - 1s 157ms/step - loss: 0.1256 - accuracy: 0.9614 - val_loss: 1.7480 - val_accuracy: 0.5818\n",
      "Epoch 95/100\n",
      "8/8 [==============================] - 1s 159ms/step - loss: 0.1873 - accuracy: 0.9359 - val_loss: 1.8179 - val_accuracy: 0.5870\n",
      "Epoch 96/100\n",
      "8/8 [==============================] - 1s 158ms/step - loss: 0.1129 - accuracy: 0.9646 - val_loss: 1.9582 - val_accuracy: 0.5839\n",
      "Epoch 97/100\n",
      "8/8 [==============================] - 1s 176ms/step - loss: 0.2331 - accuracy: 0.9225 - val_loss: 1.7856 - val_accuracy: 0.5787\n",
      "Epoch 98/100\n",
      "8/8 [==============================] - 1s 163ms/step - loss: 0.0884 - accuracy: 0.9776 - val_loss: 1.9110 - val_accuracy: 0.5880\n",
      "Epoch 99/100\n",
      "8/8 [==============================] - 1s 160ms/step - loss: 0.2226 - accuracy: 0.9267 - val_loss: 1.7870 - val_accuracy: 0.5859\n",
      "Epoch 100/100\n",
      "8/8 [==============================] - 1s 160ms/step - loss: 0.0859 - accuracy: 0.9781 - val_loss: 1.9611 - val_accuracy: 0.5745\n"
     ]
    },
    {
     "data": {
      "text/plain": [
       "<tensorflow.python.keras.callbacks.History at 0x1df7d08cdc8>"
      ]
     },
     "execution_count": 28,
     "metadata": {},
     "output_type": "execute_result"
    }
   ],
   "source": [
    "model = RNN()\n",
    "model.summary()\n",
    "opt = RMSprop(learning_rate=6e-4)\n",
    "model.compile(loss='binary_crossentropy', optimizer=opt, metrics=['accuracy'])\n",
    "\n",
    "model.fit(\n",
    "    X,\n",
    "    Y,\n",
    "    batch_size=1800,\n",
    "    epochs=100,\n",
    "    validation_data = (X_test, Y_test))"
   ]
  },
  {
   "cell_type": "code",
   "execution_count": 29,
   "metadata": {
    "scrolled": true
   },
   "outputs": [
    {
     "name": "stdout",
     "output_type": "stream",
     "text": [
      "ROC AUC: 0.593\n"
     ]
    },
    {
     "data": {
      "image/png": "[encoded data removed]",
      "text/plain": [
       "<Figure size 432x288 with 1 Axes>"
      ]
     },
     "metadata": {
      "needs_background": "light"
     },
     "output_type": "display_data"
    }
   ],
   "source": [
    "clean_scores = []\n",
    "cheat_scores = []\n",
    "\n",
    "probabilities = model.predict(X_test) \n",
    "\n",
    "print('ROC AUC: {:.3f}'.format(roc_auc_score(Y_test, probabilities)))\n",
    "\n",
    "for i, p in enumerate(probabilities):\n",
    "    if (Y_test[i]) == 0:\n",
    "        clean_scores.append(p.item())\n",
    "    else:\n",
    "        cheat_scores.append(p.item())\n",
    "        \n",
    "plt.hist(clean_scores, label='clean', bins=50, alpha=0.5)\n",
    "plt.hist(cheat_scores, label='cheat', bins=50, alpha=0.5)\n",
    "plt.title(\"Cheatyness Score Histogram, Test\")\n",
    "plt.legend(loc='upper center')\n",
    "plt.show()"
   ]
  },
  {
   "cell_type": "code",
   "execution_count": null,
   "metadata": {},
   "outputs": [],
   "source": []
  }
 ],
 "metadata": {
  "kernelspec": {
   "display_name": "Python 3",
   "language": "python",
   "name": "python3"
  },
  "language_info": {
   "codemirror_mode": {
    "name": "ipython",
    "version": 3
   },
   "file_extension": ".py",
   "mimetype": "text/x-python",
   "name": "python",
   "nbconvert_exporter": "python",
   "pygments_lexer": "ipython3",
   "version": "3.7.8"
  }
 },
 "nbformat": 4,
 "nbformat_minor": 1
}
